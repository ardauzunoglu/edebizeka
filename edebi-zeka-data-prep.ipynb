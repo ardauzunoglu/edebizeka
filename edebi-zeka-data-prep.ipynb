{
 "cells": [
  {
   "cell_type": "code",
   "execution_count": 366,
   "metadata": {},
   "outputs": [],
   "source": [
    "import pandas as pd\n",
    "import numpy as np\n",
    "from nltk.corpus import stopwords"
   ]
  },
  {
   "cell_type": "code",
   "execution_count": 367,
   "metadata": {},
   "outputs": [],
   "source": [
    "stopwords = stopwords.words(\"turkish\")\n",
    "edebi_zeka_df = pd.DataFrame(columns=[\"Dize\", \"Dönem\"])"
   ]
  },
  {
   "cell_type": "code",
   "execution_count": 368,
   "metadata": {},
   "outputs": [],
   "source": [
    "def data_prep(file_name, age):\n",
    "    file_name += \".txt\"\n",
    "    f = open(file_name, \"r\", encoding=\"utf-8\")\n",
    "    veri = f.read()\n",
    "    veri = veri.lower().split(\"\\n\")\n",
    "    \n",
    "    for i in veri:\n",
    "        for x in i:\n",
    "            if x in stopwords:\n",
    "                i.replace(x, \"\")\n",
    "    try:\n",
    "        for i in veri:\n",
    "            olcum_ind = veri.index(i)\n",
    "            if \"....\" in veri[olcum_ind+1]:\n",
    "                veri.remove(i)\n",
    "                \n",
    "    except:\n",
    "        pass\n",
    "    \n",
    "    for i in veri:\n",
    "        if \"....\" in i:\n",
    "            veri.remove(i)    \n",
    "    for i in veri:\n",
    "        if i == \"\":\n",
    "            veri.remove(i)\n",
    "            \n",
    "    for i in veri:\n",
    "        if i == \" \":\n",
    "            veri.remove(i)\n",
    "            \n",
    "    veri_df = pd.DataFrame(veri, columns=[\"Dize\"])\n",
    "    veri_df[\"Dize\"] = veri_df[\"Dize\"].str.replace(\"[^\\w\\s]\", \"\")\n",
    "    veri_df[\"Dize\"] = veri_df[\"Dize\"].str.replace(\"\\d\", \"\")\n",
    "    veri_df.replace(\"\", np.nan, inplace=True)\n",
    "    veri_df.dropna(subset=[\"Dize\"], inplace=True)        \n",
    "    veri_df[\"Dönem\"] = age\n",
    "    return veri_df"
   ]
  },
  {
   "cell_type": "code",
   "execution_count": 369,
   "metadata": {},
   "outputs": [],
   "source": [
    "def dataframe_check(df):\n",
    "    rec_bin = []\n",
    "    for i in range(len(df)):\n",
    "        if len(df[\"Dize\"][i].split()) < 3:\n",
    "            rec_bin.append(i)\n",
    "            \n",
    "    cleaned_df = df.drop(rec_bin)\n",
    "    return cleaned_df"
   ]
  },
  {
   "cell_type": "code",
   "execution_count": 370,
   "metadata": {},
   "outputs": [],
   "source": [
    "def excel_transfer(dataframe):\n",
    "    dataframe.to_excel(\"edebi-zeka-veriseti.xlsx\", index=False)"
   ]
  },
  {
   "cell_type": "code",
   "execution_count": 371,
   "metadata": {},
   "outputs": [],
   "source": [
    "dict1 = {\"nazim-hikmet-ran\":\"Serbest Şiir\", \"abdulhak-hamit-tarhan\":\"Tanzimat\", \"namik-kemal\":\"Tanzimat\", \"recaizade-mahmud-ekrem\":\"Tanzimat\", \"ziya-pasa\":\"Tanzimat\", \"cenap-sahabettin\":\"Servetifünun\", \"suleyman-nazif\":\"Servetifünun\", \"tevfik-fikret\":\"Servetifünun\", \"mehmet-akif-ersoy\":\"Milli Edebiyat\", \"mehmet-emin-yurdakul\":\"Milli Edebiyat\", \"yahya-kemal\":\"Milli Edebiyat\", \"ziya-gokalp\":\"Milli Edebiyat\", \"cemal-sureya\":\"İkinci Yeni\", \"edip-cansever\":\"İkinci Yeni\", \"turgut-uyar\":\"İkinci Yeni\", \"faruk-nafiz-camlıbel\":\"Hececiler\", \"halit-fahri-ozansoy\":\"Hececiler\", \"melih-cevdet-atay\":\"Garip Şiir\", \"oktay-rifat\":\"Garip Şiir\", \"orhan-veli-kanık\":\"Garip Şiir\", \"ahmet-hasim\":\"Fecr-i Ati\"}"
   ]
  },
  {
   "cell_type": "code",
   "execution_count": 372,
   "metadata": {},
   "outputs": [],
   "source": [
    "for i in dict1:\n",
    "    df = data_prep(i, dict1[i])\n",
    "    edebi_zeka_df = pd.concat([edebi_zeka_df, df], ignore_index=True)"
   ]
  },
  {
   "cell_type": "code",
   "execution_count": 373,
   "metadata": {},
   "outputs": [],
   "source": [
    "edebi_zeka_temizlenmis_df = dataframe_check(edebi_zeka_df)"
   ]
  },
  {
   "cell_type": "code",
   "execution_count": 374,
   "metadata": {},
   "outputs": [],
   "source": [
    "excel_transfer(edebi_zeka_temizlenmis_df)"
   ]
  },
  {
   "cell_type": "code",
   "execution_count": null,
   "metadata": {},
   "outputs": [],
   "source": []
  }
 ],
 "metadata": {
  "kernelspec": {
   "display_name": "Python 3",
   "language": "python",
   "name": "python3"
  },
  "language_info": {
   "codemirror_mode": {
    "name": "ipython",
    "version": 3
   },
   "file_extension": ".py",
   "mimetype": "text/x-python",
   "name": "python",
   "nbconvert_exporter": "python",
   "pygments_lexer": "ipython3",
   "version": "3.8.3"
  }
 },
 "nbformat": 4,
 "nbformat_minor": 4
}
