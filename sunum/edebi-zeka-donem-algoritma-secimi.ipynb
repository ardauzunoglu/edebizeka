{
 "cells": [
  {
   "cell_type": "code",
   "execution_count": 204,
   "metadata": {},
   "outputs": [],
   "source": [
    "import pickle\n",
    "import numpy as np\n",
    "import pandas as pd \n",
    "from nltk.corpus import stopwords\n",
    "from sklearn.linear_model import SGDClassifier\n",
    "from sklearn.model_selection import train_test_split\n",
    "from sklearn.feature_extraction.text import CountVectorizer, TfidfVectorizer\n",
    "from sklearn.metrics import accuracy_score, confusion_matrix\n",
    "from sklearn.naive_bayes import MultinomialNB\n",
    "from sklearn.pipeline import Pipeline\n",
    "from sklearn.feature_extraction.text import TfidfTransformer\n",
    "from sklearn.preprocessing import scale \n",
    "from sklearn.model_selection import train_test_split, GridSearchCV, cross_val_score\n",
    "from sklearn.metrics import confusion_matrix, accuracy_score, classification_report, roc_auc_score,roc_curve\n",
    "from sklearn.neighbors import KNeighborsClassifier\n",
    "from sklearn.linear_model import LogisticRegression\n",
    "import random"
   ]
  },
  {
   "cell_type": "code",
   "execution_count": 205,
   "metadata": {},
   "outputs": [],
   "source": [
    "donemler = [\"İkinci Yeni\", \"Garip Şiiri\", \"Hececiler\", \"Milli Edebiyat\", \"Fecri Ati\", \"Servetifünun\", \"Tanzimat\",\n",
    "           \"1980 Sonrası Şiir\", \"1960 Sonrası Toplumcu Şiir\", \"Hisarcılar\", \"Metafizik Anlayışını Öne Çıkaran Şiir\",\n",
    "           \"Milli Edebiyat Anlayışını Yansıtan Şiir\", \"Maviciler\", \"1923-1960 Arası Toplumcu Serbest Şiir\",\n",
    "           \"Cumhuriyet Dönemi Saf Şiir\", \"Yedi Meşaleciler\"]"
   ]
  },
  {
   "cell_type": "markdown",
   "metadata": {},
   "source": [
    "# Lojistik Regresyon"
   ]
  },
  {
   "cell_type": "code",
   "execution_count": 403,
   "metadata": {},
   "outputs": [
    {
     "data": {
      "text/plain": [
       "(66606, 2)"
      ]
     },
     "execution_count": 403,
     "metadata": {},
     "output_type": "execute_result"
    }
   ],
   "source": [
    "data = pd.read_excel(\"edebi-zeka-donem-veri-seti.xlsx\")\n",
    "data = data.sample(frac=1).reset_index(drop=True)\n",
    "data.shape"
   ]
  },
  {
   "cell_type": "code",
   "execution_count": 416,
   "metadata": {},
   "outputs": [
    {
     "data": {
      "text/plain": [
       "Milli Edebiyat                             13433\n",
       "Metafizik Anlayışını Öne Çıkaran Şiir      12532\n",
       "Cumhuriyet Dönemi Saf Şiir                  6885\n",
       "İkinci Yeni                                 6741\n",
       "1980 Sonrası Şiir                           5721\n",
       "1960 Sonrası Toplumcu Şiir                  4731\n",
       "Garip Şiiri                                 3158\n",
       "Hisarcılar                                  2487\n",
       "1923-1960 Arası Toplumcu Serbest Şiir       2444\n",
       "Milli Edebiyat Anlayışını Yansıtan Şiir     1876\n",
       "Tanzimat                                    1648\n",
       "Maviciler                                   1381\n",
       "Servetifünun                                1282\n",
       "Hececiler                                    902\n",
       "Fecri Ati                                    893\n",
       "Yedi Meşaleciler                             492\n",
       "Name: Dönem, dtype: int64"
      ]
     },
     "execution_count": 416,
     "metadata": {},
     "output_type": "execute_result"
    }
   ],
   "source": [
    "data[\"Dönem\"].value_counts()"
   ]
  },
  {
   "cell_type": "code",
   "execution_count": 417,
   "metadata": {},
   "outputs": [],
   "source": [
    "y = data2[\"Dönem\"]\n",
    "X = data2[\"Dize\"]\n",
    "X_train, X_test, y_train, y_test = train_test_split(X, y, test_size=0.3, random_state = 42)"
   ]
  },
  {
   "cell_type": "code",
   "execution_count": 418,
   "metadata": {},
   "outputs": [
    {
     "data": {
      "text/plain": [
       "Pipeline(steps=[('vect', CountVectorizer()), ('tfidf', TfidfTransformer()),\n",
       "                ('clf', LogisticRegression(C=10000000.0, n_jobs=50))])"
      ]
     },
     "execution_count": 418,
     "metadata": {},
     "output_type": "execute_result"
    }
   ],
   "source": [
    "from sklearn.linear_model import LogisticRegression\n",
    "\n",
    "logreg = Pipeline([('vect', CountVectorizer()),\n",
    "                ('tfidf', TfidfTransformer()),\n",
    "                ('clf', LogisticRegression(n_jobs=50, C=1e7)),\n",
    "               ])\n",
    "logreg.fit(X_train, y_train)"
   ]
  },
  {
   "cell_type": "code",
   "execution_count": 419,
   "metadata": {},
   "outputs": [
    {
     "name": "stdout",
     "output_type": "stream",
     "text": [
      "accuracy 0.9053913028929708\n",
      "                                         precision    recall  f1-score   support\n",
      "\n",
      "                            İkinci Yeni       0.90      0.90      0.90     24384\n",
      "                            Garip Şiiri       0.92      0.92      0.92     42637\n",
      "                              Hececiler       0.89      0.91      0.90     42787\n",
      "                         Milli Edebiyat       0.87      0.66      0.75     24752\n",
      "                              Fecri Ati       0.98      0.98      0.98     17436\n",
      "                           Servetifünun       0.92      0.94      0.93     42485\n",
      "                               Tanzimat       0.92      1.00      0.96     17566\n",
      "                      1980 Sonrası Şiir       0.93      0.96      0.95     39558\n",
      "             1960 Sonrası Toplumcu Şiir       0.93      0.97      0.95     16392\n",
      "                             Hisarcılar       0.86      0.80      0.83     43040\n",
      "  Metafizik Anlayışını Öne Çıkaran Şiir       0.88      0.89      0.89     42926\n",
      "Milli Edebiyat Anlayışını Yansıtan Şiir       0.91      0.94      0.93     23452\n",
      "                              Maviciler       0.96      0.98      0.97     23328\n",
      "  1923-1960 Arası Toplumcu Serbest Şiir       0.99      0.96      0.98     28015\n",
      "             Cumhuriyet Dönemi Saf Şiir       0.93      1.00      0.96      6670\n",
      "                       Yedi Meşaleciler       0.82      0.87      0.84     42731\n",
      "\n",
      "                               accuracy                           0.91    478159\n",
      "                              macro avg       0.91      0.92      0.91    478159\n",
      "                           weighted avg       0.91      0.91      0.90    478159\n",
      "\n"
     ]
    }
   ],
   "source": [
    "y_pred = logreg.predict(X_test)\n",
    "\n",
    "print('accuracy %s' % accuracy_score(y_pred, y_test))\n",
    "print(classification_report(y_test, y_pred,target_names=donemler))"
   ]
  },
  {
   "cell_type": "code",
   "execution_count": 420,
   "metadata": {},
   "outputs": [],
   "source": [
    "with open(\"ez-donem-model.bin\", 'wb') as f_out:\n",
    "    pickle.dump(logreg, f_out) # write final_model in .bin file\n",
    "    f_out.close()  # close the file "
   ]
  },
  {
   "cell_type": "markdown",
   "metadata": {},
   "source": [
    "# KNN"
   ]
  },
  {
   "cell_type": "code",
   "execution_count": 31,
   "metadata": {},
   "outputs": [],
   "source": [
    "data = pd.read_excel(\"edebi-zeka-donem-veri-seti.xlsx\")\n",
    "data = data.sample(frac=1).reset_index(drop=True)\n",
    "data = data[data.Dönem != \"Yedi Meşaleciler\"]"
   ]
  },
  {
   "cell_type": "code",
   "execution_count": 32,
   "metadata": {},
   "outputs": [],
   "source": [
    "y = data[\"Dönem\"]\n",
    "X = data[\"Dize\"]\n",
    "X_train, X_test, y_train, y_test = train_test_split(X, y, test_size=0.3, random_state = 42)"
   ]
  },
  {
   "cell_type": "code",
   "execution_count": 33,
   "metadata": {},
   "outputs": [
    {
     "data": {
      "text/plain": [
       "Pipeline(steps=[('vect', CountVectorizer()), ('tfidf', TfidfTransformer()),\n",
       "                ('clf', KNeighborsClassifier())])"
      ]
     },
     "execution_count": 33,
     "metadata": {},
     "output_type": "execute_result"
    }
   ],
   "source": [
    "knnclass = Pipeline([('vect', CountVectorizer()),\n",
    "                ('tfidf', TfidfTransformer()),\n",
    "                ('clf', KNeighborsClassifier()),\n",
    "               ])\n",
    "knnclass.fit(X_train, y_train)"
   ]
  },
  {
   "cell_type": "code",
   "execution_count": 34,
   "metadata": {},
   "outputs": [
    {
     "name": "stdout",
     "output_type": "stream",
     "text": [
      "accuracy 0.6377364049868331\n",
      "                                         precision    recall  f1-score   support\n",
      "\n",
      "                            İkinci Yeni       0.24      0.14      0.17       864\n",
      "                             Garip Şiir       0.33      0.26      0.29      2859\n",
      "                              Hececiler       0.57      0.64      0.61      4083\n",
      "                         Milli Edebiyat       0.23      0.13      0.16      1921\n",
      "                              Fecri Ati       0.56      0.51      0.53       832\n",
      "                           Servetifünun       0.61      0.87      0.72      4841\n",
      "                               Tanzimat       0.40      0.38      0.39       407\n",
      "                      1980 Sonrası Şiir       0.32      0.20      0.25       827\n",
      "             1960 Sonrası Toplumcu Şiir       0.25      0.16      0.20       780\n",
      "                             Hisarcılar       0.57      0.58      0.57      7072\n",
      "  Metafizik Anlayışını Öne Çıkaran Şiir       0.81      0.59      0.68     11852\n",
      "Milli Edebiyat Anlayışını Yansıtan Şiir       0.36      0.21      0.27      1131\n",
      "                              Maviciler       0.47      0.32      0.38      1164\n",
      "  1923-1960 Arası Toplumcu Serbest Şiir       0.65      0.33      0.43      1527\n",
      "             Cumhuriyet Dönemi Saf Şiir       0.73      0.97      0.83     14143\n",
      "\n",
      "                               accuracy                           0.64     54303\n",
      "                              macro avg       0.47      0.42      0.43     54303\n",
      "                           weighted avg       0.62      0.64      0.62     54303\n",
      "\n"
     ]
    }
   ],
   "source": [
    "y_pred = knnclass.predict(X_test)\n",
    "print('accuracy %s' % accuracy_score(y_pred, y_test))\n",
    "print(classification_report(y_test, y_pred,target_names=donemler))"
   ]
  },
  {
   "cell_type": "markdown",
   "metadata": {},
   "source": [
    "# Naive Bayes"
   ]
  },
  {
   "cell_type": "code",
   "execution_count": 97,
   "metadata": {},
   "outputs": [],
   "source": [
    "data = pd.read_excel(\"edebi-zeka-donem-veri-seti.xlsx\")\n",
    "data = data.sample(frac=1).reset_index(drop=True)\n",
    "data = data[data.Dönem != \"Yedi Meşaleciler\"]"
   ]
  },
  {
   "cell_type": "code",
   "execution_count": 98,
   "metadata": {},
   "outputs": [],
   "source": [
    "y = data[\"Dönem\"]\n",
    "X = data[\"Dize\"]\n",
    "X_train, X_test, y_train, y_test = train_test_split(X, y, test_size=0.3, random_state = 42)"
   ]
  },
  {
   "cell_type": "code",
   "execution_count": 99,
   "metadata": {},
   "outputs": [
    {
     "data": {
      "text/plain": [
       "Pipeline(steps=[('vect', CountVectorizer()), ('tfidf', TfidfTransformer()),\n",
       "                ('clf', MultinomialNB())])"
      ]
     },
     "execution_count": 99,
     "metadata": {},
     "output_type": "execute_result"
    }
   ],
   "source": [
    "nb = Pipeline([('vect', CountVectorizer()),\n",
    "               ('tfidf', TfidfTransformer()),\n",
    "               ('clf', MultinomialNB()),\n",
    "              ])\n",
    "nb.fit(X_train, y_train)"
   ]
  },
  {
   "cell_type": "code",
   "execution_count": 100,
   "metadata": {},
   "outputs": [
    {
     "name": "stdout",
     "output_type": "stream",
     "text": [
      "accuracy 0.6139808113732206\n",
      "                                         precision    recall  f1-score   support\n",
      "\n",
      "                            İkinci Yeni       0.00      0.00      0.00       895\n",
      "                             Garip Şiir       0.99      0.07      0.13      2800\n",
      "                              Hececiler       0.93      0.35      0.51      4126\n",
      "                         Milli Edebiyat       1.00      0.00      0.01      1924\n",
      "                              Fecri Ati       1.00      0.02      0.04       793\n",
      "                           Servetifünun       0.91      0.54      0.68      4982\n",
      "                               Tanzimat       0.00      0.00      0.00       445\n",
      "                      1980 Sonrası Şiir       1.00      0.00      0.01       813\n",
      "             1960 Sonrası Toplumcu Şiir       0.00      0.00      0.00       843\n",
      "                             Hisarcılar       0.76      0.52      0.62      6923\n",
      "  Metafizik Anlayışını Öne Çıkaran Şiir       0.67      0.94      0.78     12016\n",
      "Milli Edebiyat Anlayışını Yansıtan Şiir       1.00      0.01      0.03      1080\n",
      "                              Maviciler       1.00      0.05      0.10      1193\n",
      "  1923-1960 Arası Toplumcu Serbest Şiir       1.00      0.11      0.20      1449\n",
      "             Cumhuriyet Dönemi Saf Şiir       0.50      0.99      0.66     14021\n",
      "\n",
      "                               accuracy                           0.61     54303\n",
      "                              macro avg       0.72      0.24      0.25     54303\n",
      "                           weighted avg       0.71      0.61      0.54     54303\n",
      "\n"
     ]
    }
   ],
   "source": [
    "y_pred = nb.predict(X_test)\n",
    "\n",
    "print('accuracy %s' % accuracy_score(y_pred, y_test))\n",
    "print(classification_report(y_test, y_pred,target_names=donemler))"
   ]
  },
  {
   "cell_type": "markdown",
   "metadata": {},
   "source": [
    "# Linear Support Vector Machine"
   ]
  },
  {
   "cell_type": "code",
   "execution_count": 234,
   "metadata": {},
   "outputs": [],
   "source": [
    "data = pd.read_excel(\"edebi-zeka-donem-veri-seti.xlsx\")\n",
    "data = data.sample(frac=1).reset_index(drop=True)\n",
    "data = data[data.Dönem != \"Yedi Meşaleciler\"]"
   ]
  },
  {
   "cell_type": "code",
   "execution_count": 235,
   "metadata": {},
   "outputs": [],
   "source": [
    "y = data[\"Dönem\"]\n",
    "X = data[\"Dize\"]\n",
    "X_train, X_test, y_train, y_test = train_test_split(X, y, test_size=0.3, random_state = 42)"
   ]
  },
  {
   "cell_type": "code",
   "execution_count": 236,
   "metadata": {},
   "outputs": [
    {
     "data": {
      "text/plain": [
       "Pipeline(steps=[('vect', CountVectorizer()), ('tfidf', TfidfTransformer()),\n",
       "                ('clf',\n",
       "                 SGDClassifier(alpha=0.001, max_iter=5, random_state=42,\n",
       "                               tol=None))])"
      ]
     },
     "execution_count": 236,
     "metadata": {},
     "output_type": "execute_result"
    }
   ],
   "source": [
    "sgd = Pipeline([('vect', CountVectorizer()),\n",
    "                ('tfidf', TfidfTransformer()),\n",
    "                ('clf', SGDClassifier(loss='hinge', penalty='l2',alpha=1e-3, random_state=42, max_iter=5, tol=None)),\n",
    "               ])\n",
    "sgd.fit(X_train, y_train)"
   ]
  },
  {
   "cell_type": "code",
   "execution_count": 237,
   "metadata": {},
   "outputs": [
    {
     "name": "stdout",
     "output_type": "stream",
     "text": [
      "accuracy 0.7178056460969007\n",
      "                                         precision    recall  f1-score   support\n",
      "\n",
      "                            İkinci Yeni       0.89      0.16      0.27       836\n",
      "                             Garip Şiir       0.86      0.34      0.49      2823\n",
      "                              Hececiler       0.80      0.65      0.72      4076\n",
      "                         Milli Edebiyat       0.66      0.07      0.12      1868\n",
      "                              Fecri Ati       0.87      0.52      0.65       807\n",
      "                           Servetifünun       0.81      0.76      0.79      4876\n",
      "                               Tanzimat       0.86      0.48      0.61       415\n",
      "                      1980 Sonrası Şiir       0.81      0.35      0.48       804\n",
      "             1960 Sonrası Toplumcu Şiir       0.85      0.27      0.41       829\n",
      "                             Hisarcılar       0.81      0.58      0.68      6969\n",
      "  Metafizik Anlayışını Öne Çıkaran Şiir       0.68      0.94      0.78     12040\n",
      "Milli Edebiyat Anlayışını Yansıtan Şiir       0.83      0.30      0.44      1136\n",
      "                              Maviciler       0.90      0.42      0.58      1178\n",
      "  1923-1960 Arası Toplumcu Serbest Şiir       0.89      0.49      0.64      1480\n",
      "             Cumhuriyet Dönemi Saf Şiir       0.66      0.94      0.78     14166\n",
      "\n",
      "                               accuracy                           0.72     54303\n",
      "                              macro avg       0.81      0.48      0.56     54303\n",
      "                           weighted avg       0.75      0.72      0.69     54303\n",
      "\n"
     ]
    }
   ],
   "source": [
    "y_pred = sgd.predict(X_test)\n",
    "\n",
    "print('accuracy %s' % accuracy_score(y_pred, y_test))\n",
    "print(classification_report(y_test, y_pred,target_names=donemler))"
   ]
  },
  {
   "cell_type": "markdown",
   "metadata": {},
   "source": [
    "# Keras TF"
   ]
  },
  {
   "cell_type": "code",
   "execution_count": 121,
   "metadata": {},
   "outputs": [],
   "source": [
    "import itertools\n",
    "import os\n",
    "\n",
    "%matplotlib inline\n",
    "import matplotlib.pyplot as plt\n",
    "import numpy as np\n",
    "import pandas as pd\n",
    "import tensorflow as tf\n",
    "\n",
    "from sklearn.preprocessing import LabelBinarizer, LabelEncoder\n",
    "from sklearn.metrics import confusion_matrix\n",
    "\n",
    "from tensorflow import keras\n",
    "from keras.models import Sequential\n",
    "from keras.layers import Dense, Activation, Dropout\n",
    "from keras.preprocessing import text, sequence\n",
    "from keras import utils"
   ]
  },
  {
   "cell_type": "code",
   "execution_count": 122,
   "metadata": {},
   "outputs": [],
   "source": [
    "data = pd.read_excel(\"edebi-zeka-donem-veri-seti.xlsx\")\n",
    "data = data.sample(frac=1).reset_index(drop=True)\n",
    "data = data[data.Dönem != \"Yedi Meşaleciler\"]"
   ]
  },
  {
   "cell_type": "code",
   "execution_count": 123,
   "metadata": {},
   "outputs": [],
   "source": [
    "train_size = int(len(data) * .7)\n",
    "train_posts = data[\"Dize\"][:train_size]\n",
    "train_tags = data[\"Dönem\"][:train_size]\n",
    "\n",
    "test_posts = data[\"Dize\"][train_size:]\n",
    "test_tags = data[\"Dönem\"][train_size:]"
   ]
  },
  {
   "cell_type": "code",
   "execution_count": 124,
   "metadata": {},
   "outputs": [],
   "source": [
    "max_words = 1000\n",
    "tokenize = text.Tokenizer(num_words=max_words, char_level=False)\n",
    "tokenize.fit_on_texts(train_posts) # only fit on train"
   ]
  },
  {
   "cell_type": "code",
   "execution_count": 125,
   "metadata": {},
   "outputs": [],
   "source": [
    "x_train = tokenize.texts_to_matrix(train_posts)\n",
    "x_test = tokenize.texts_to_matrix(test_posts)"
   ]
  },
  {
   "cell_type": "code",
   "execution_count": 126,
   "metadata": {},
   "outputs": [],
   "source": [
    "encoder = LabelEncoder()\n",
    "encoder.fit(train_tags)\n",
    "y_train = encoder.transform(train_tags)\n",
    "y_test = encoder.transform(test_tags)"
   ]
  },
  {
   "cell_type": "code",
   "execution_count": 127,
   "metadata": {},
   "outputs": [],
   "source": [
    "num_classes = np.max(y_train) + 1\n",
    "y_train = utils.to_categorical(y_train, num_classes)\n",
    "y_test = utils.to_categorical(y_test, num_classes)"
   ]
  },
  {
   "cell_type": "code",
   "execution_count": 128,
   "metadata": {},
   "outputs": [],
   "source": [
    "batch_size = 256\n",
    "epochs = 250"
   ]
  },
  {
   "cell_type": "code",
   "execution_count": 129,
   "metadata": {},
   "outputs": [],
   "source": [
    "model = Sequential()\n",
    "model.add(Dense(512, input_shape=(max_words,)))\n",
    "model.add(Activation('relu'))\n",
    "model.add(Dropout(0.5))\n",
    "model.add(Dense(num_classes))\n",
    "model.add(Activation('softmax'))"
   ]
  },
  {
   "cell_type": "code",
   "execution_count": 130,
   "metadata": {},
   "outputs": [],
   "source": [
    "model.compile(loss='categorical_crossentropy',\n",
    "              optimizer='adam',\n",
    "              metrics=['accuracy'])"
   ]
  },
  {
   "cell_type": "code",
   "execution_count": 131,
   "metadata": {
    "collapsed": true,
    "jupyter": {
     "outputs_hidden": true
    }
   },
   "outputs": [
    {
     "name": "stdout",
     "output_type": "stream",
     "text": [
      "Epoch 1/250\n",
      "446/446 [==============================] - 2s 5ms/step - loss: 2.0100 - accuracy: 0.3677 - val_loss: 1.8648 - val_accuracy: 0.4086\n",
      "Epoch 2/250\n",
      "446/446 [==============================] - 2s 4ms/step - loss: 1.8125 - accuracy: 0.4180 - val_loss: 1.7898 - val_accuracy: 0.4322\n",
      "Epoch 3/250\n",
      "446/446 [==============================] - 2s 5ms/step - loss: 1.7339 - accuracy: 0.4441 - val_loss: 1.7347 - val_accuracy: 0.4494\n",
      "Epoch 4/250\n",
      "446/446 [==============================] - 2s 5ms/step - loss: 1.6675 - accuracy: 0.4640 - val_loss: 1.6852 - val_accuracy: 0.4709\n",
      "Epoch 5/250\n",
      "446/446 [==============================] - 2s 5ms/step - loss: 1.6106 - accuracy: 0.4834 - val_loss: 1.6364 - val_accuracy: 0.4892\n",
      "Epoch 6/250\n",
      "446/446 [==============================] - 2s 4ms/step - loss: 1.5607 - accuracy: 0.5009 - val_loss: 1.5948 - val_accuracy: 0.5041\n",
      "Epoch 7/250\n",
      "446/446 [==============================] - 2s 4ms/step - loss: 1.5152 - accuracy: 0.5148 - val_loss: 1.5550 - val_accuracy: 0.5167\n",
      "Epoch 8/250\n",
      "446/446 [==============================] - 2s 4ms/step - loss: 1.4741 - accuracy: 0.5265 - val_loss: 1.5229 - val_accuracy: 0.5251\n",
      "Epoch 9/250\n",
      "446/446 [==============================] - 2s 4ms/step - loss: 1.4400 - accuracy: 0.5388 - val_loss: 1.4876 - val_accuracy: 0.5392\n",
      "Epoch 10/250\n",
      "446/446 [==============================] - 2s 4ms/step - loss: 1.4091 - accuracy: 0.5476 - val_loss: 1.4623 - val_accuracy: 0.5459\n",
      "Epoch 11/250\n",
      "446/446 [==============================] - 2s 4ms/step - loss: 1.3812 - accuracy: 0.5557 - val_loss: 1.4387 - val_accuracy: 0.5510\n",
      "Epoch 12/250\n",
      "446/446 [==============================] - 2s 4ms/step - loss: 1.3530 - accuracy: 0.5652 - val_loss: 1.4127 - val_accuracy: 0.5644\n",
      "Epoch 13/250\n",
      "446/446 [==============================] - 2s 4ms/step - loss: 1.3311 - accuracy: 0.5716 - val_loss: 1.3946 - val_accuracy: 0.5710\n",
      "Epoch 14/250\n",
      "446/446 [==============================] - 2s 4ms/step - loss: 1.3090 - accuracy: 0.5765 - val_loss: 1.3758 - val_accuracy: 0.5768\n",
      "Epoch 15/250\n",
      "446/446 [==============================] - 2s 4ms/step - loss: 1.2885 - accuracy: 0.5836 - val_loss: 1.3559 - val_accuracy: 0.5836\n",
      "Epoch 16/250\n",
      "446/446 [==============================] - 2s 4ms/step - loss: 1.2725 - accuracy: 0.5877 - val_loss: 1.3435 - val_accuracy: 0.5879\n",
      "Epoch 17/250\n",
      "446/446 [==============================] - 2s 4ms/step - loss: 1.2549 - accuracy: 0.5943 - val_loss: 1.3291 - val_accuracy: 0.5908\n",
      "Epoch 18/250\n",
      "446/446 [==============================] - 2s 4ms/step - loss: 1.2362 - accuracy: 0.5988 - val_loss: 1.3157 - val_accuracy: 0.5941\n",
      "Epoch 19/250\n",
      "446/446 [==============================] - 2s 4ms/step - loss: 1.2232 - accuracy: 0.6030 - val_loss: 1.3062 - val_accuracy: 0.5987\n",
      "Epoch 20/250\n",
      "446/446 [==============================] - 2s 4ms/step - loss: 1.2080 - accuracy: 0.6071 - val_loss: 1.2922 - val_accuracy: 0.6056\n",
      "Epoch 21/250\n",
      "446/446 [==============================] - 2s 4ms/step - loss: 1.1972 - accuracy: 0.6095 - val_loss: 1.2889 - val_accuracy: 0.6033\n",
      "Epoch 22/250\n",
      "446/446 [==============================] - 2s 4ms/step - loss: 1.1845 - accuracy: 0.6137 - val_loss: 1.2775 - val_accuracy: 0.6062\n",
      "Epoch 23/250\n",
      "446/446 [==============================] - 2s 4ms/step - loss: 1.1738 - accuracy: 0.6170 - val_loss: 1.2668 - val_accuracy: 0.6116\n",
      "Epoch 24/250\n",
      "446/446 [==============================] - 2s 4ms/step - loss: 1.1640 - accuracy: 0.6192 - val_loss: 1.2607 - val_accuracy: 0.6130\n",
      "Epoch 25/250\n",
      "446/446 [==============================] - 2s 4ms/step - loss: 1.1546 - accuracy: 0.6208 - val_loss: 1.2550 - val_accuracy: 0.6171\n",
      "Epoch 26/250\n",
      "446/446 [==============================] - 2s 4ms/step - loss: 1.1457 - accuracy: 0.6234 - val_loss: 1.2488 - val_accuracy: 0.6157\n",
      "Epoch 27/250\n",
      "446/446 [==============================] - 2s 4ms/step - loss: 1.1339 - accuracy: 0.6275 - val_loss: 1.2473 - val_accuracy: 0.6176\n",
      "Epoch 28/250\n",
      "446/446 [==============================] - 2s 4ms/step - loss: 1.1277 - accuracy: 0.6285 - val_loss: 1.2379 - val_accuracy: 0.6206\n",
      "Epoch 29/250\n",
      "446/446 [==============================] - 2s 4ms/step - loss: 1.1208 - accuracy: 0.6307 - val_loss: 1.2334 - val_accuracy: 0.6214\n",
      "Epoch 30/250\n",
      "446/446 [==============================] - 2s 4ms/step - loss: 1.1100 - accuracy: 0.6338 - val_loss: 1.2284 - val_accuracy: 0.6264\n",
      "Epoch 31/250\n",
      "446/446 [==============================] - 2s 4ms/step - loss: 1.1024 - accuracy: 0.6359 - val_loss: 1.2265 - val_accuracy: 0.6250\n",
      "Epoch 32/250\n",
      "446/446 [==============================] - 2s 4ms/step - loss: 1.0946 - accuracy: 0.6378 - val_loss: 1.2244 - val_accuracy: 0.6250\n",
      "Epoch 33/250\n",
      "446/446 [==============================] - 2s 4ms/step - loss: 1.0880 - accuracy: 0.6382 - val_loss: 1.2178 - val_accuracy: 0.6295\n",
      "Epoch 34/250\n",
      "446/446 [==============================] - 2s 4ms/step - loss: 1.0822 - accuracy: 0.6406 - val_loss: 1.2160 - val_accuracy: 0.6323\n",
      "Epoch 35/250\n",
      "446/446 [==============================] - 2s 4ms/step - loss: 1.0769 - accuracy: 0.6424 - val_loss: 1.2148 - val_accuracy: 0.6317\n",
      "Epoch 36/250\n",
      "446/446 [==============================] - 2s 4ms/step - loss: 1.0706 - accuracy: 0.6441 - val_loss: 1.2148 - val_accuracy: 0.6307\n",
      "Epoch 37/250\n",
      "446/446 [==============================] - 2s 4ms/step - loss: 1.0650 - accuracy: 0.6451 - val_loss: 1.2082 - val_accuracy: 0.6321\n",
      "Epoch 38/250\n",
      "446/446 [==============================] - 2s 4ms/step - loss: 1.0612 - accuracy: 0.6461 - val_loss: 1.2070 - val_accuracy: 0.6332\n",
      "Epoch 39/250\n",
      "446/446 [==============================] - 2s 4ms/step - loss: 1.0526 - accuracy: 0.6485 - val_loss: 1.2028 - val_accuracy: 0.6353\n",
      "Epoch 40/250\n",
      "446/446 [==============================] - 2s 4ms/step - loss: 1.0490 - accuracy: 0.6488 - val_loss: 1.2066 - val_accuracy: 0.6357\n",
      "Epoch 41/250\n",
      "446/446 [==============================] - 2s 4ms/step - loss: 1.0429 - accuracy: 0.6498 - val_loss: 1.2010 - val_accuracy: 0.6352\n",
      "Epoch 42/250\n",
      "446/446 [==============================] - 2s 4ms/step - loss: 1.0386 - accuracy: 0.6515 - val_loss: 1.1969 - val_accuracy: 0.6404\n",
      "Epoch 43/250\n",
      "446/446 [==============================] - 2s 4ms/step - loss: 1.0341 - accuracy: 0.6533 - val_loss: 1.1982 - val_accuracy: 0.6371\n",
      "Epoch 44/250\n",
      "446/446 [==============================] - 2s 4ms/step - loss: 1.0318 - accuracy: 0.6545 - val_loss: 1.1953 - val_accuracy: 0.6401\n",
      "Epoch 45/250\n",
      "446/446 [==============================] - 2s 4ms/step - loss: 1.0231 - accuracy: 0.6560 - val_loss: 1.1982 - val_accuracy: 0.6396\n",
      "Epoch 46/250\n",
      "446/446 [==============================] - 2s 4ms/step - loss: 1.0207 - accuracy: 0.6568 - val_loss: 1.1956 - val_accuracy: 0.6393\n",
      "Epoch 47/250\n",
      "446/446 [==============================] - 2s 4ms/step - loss: 1.0163 - accuracy: 0.6576 - val_loss: 1.1964 - val_accuracy: 0.6404\n",
      "Epoch 48/250\n",
      "446/446 [==============================] - 2s 4ms/step - loss: 1.0132 - accuracy: 0.6586 - val_loss: 1.1963 - val_accuracy: 0.6419\n",
      "Epoch 49/250\n",
      "446/446 [==============================] - ETA: 0s - loss: 1.0084 - accuracy: 0.65 - 2s 4ms/step - loss: 1.0084 - accuracy: 0.6597 - val_loss: 1.1922 - val_accuracy: 0.6426\n",
      "Epoch 50/250\n",
      "446/446 [==============================] - 2s 4ms/step - loss: 1.0055 - accuracy: 0.6603 - val_loss: 1.1927 - val_accuracy: 0.6425\n",
      "Epoch 51/250\n",
      "446/446 [==============================] - 2s 4ms/step - loss: 1.0010 - accuracy: 0.6627 - val_loss: 1.1963 - val_accuracy: 0.6423\n",
      "Epoch 52/250\n",
      "446/446 [==============================] - 2s 4ms/step - loss: 0.9961 - accuracy: 0.6627 - val_loss: 1.1940 - val_accuracy: 0.6442\n",
      "Epoch 53/250\n",
      "446/446 [==============================] - 2s 4ms/step - loss: 0.9925 - accuracy: 0.6633 - val_loss: 1.1930 - val_accuracy: 0.6439\n",
      "Epoch 54/250\n",
      "446/446 [==============================] - 2s 4ms/step - loss: 0.9907 - accuracy: 0.6635 - val_loss: 1.1916 - val_accuracy: 0.6452\n",
      "Epoch 55/250\n",
      "446/446 [==============================] - 2s 4ms/step - loss: 0.9863 - accuracy: 0.6654 - val_loss: 1.1942 - val_accuracy: 0.6455\n",
      "Epoch 56/250\n",
      "446/446 [==============================] - 2s 4ms/step - loss: 0.9856 - accuracy: 0.6647 - val_loss: 1.1925 - val_accuracy: 0.6452\n",
      "Epoch 57/250\n",
      "446/446 [==============================] - 2s 4ms/step - loss: 0.9807 - accuracy: 0.6663 - val_loss: 1.1942 - val_accuracy: 0.6471\n",
      "Epoch 58/250\n",
      "446/446 [==============================] - 2s 4ms/step - loss: 0.9761 - accuracy: 0.6685 - val_loss: 1.1926 - val_accuracy: 0.6459\n",
      "Epoch 59/250\n",
      "446/446 [==============================] - 2s 4ms/step - loss: 0.9757 - accuracy: 0.6681 - val_loss: 1.1941 - val_accuracy: 0.6480\n",
      "Epoch 60/250\n",
      "446/446 [==============================] - 2s 4ms/step - loss: 0.9722 - accuracy: 0.6693 - val_loss: 1.1980 - val_accuracy: 0.6481\n",
      "Epoch 61/250\n",
      "446/446 [==============================] - 2s 4ms/step - loss: 0.9697 - accuracy: 0.6684 - val_loss: 1.1957 - val_accuracy: 0.6474\n",
      "Epoch 62/250\n",
      "446/446 [==============================] - 2s 4ms/step - loss: 0.9675 - accuracy: 0.6696 - val_loss: 1.1921 - val_accuracy: 0.6480\n",
      "Epoch 63/250\n",
      "446/446 [==============================] - 2s 4ms/step - loss: 0.9651 - accuracy: 0.6709 - val_loss: 1.1961 - val_accuracy: 0.6490\n",
      "Epoch 64/250\n",
      "446/446 [==============================] - 2s 4ms/step - loss: 0.9646 - accuracy: 0.6716 - val_loss: 1.1955 - val_accuracy: 0.6492\n",
      "Epoch 65/250\n",
      "446/446 [==============================] - 2s 4ms/step - loss: 0.9589 - accuracy: 0.6715 - val_loss: 1.1977 - val_accuracy: 0.6487\n",
      "Epoch 66/250\n",
      "446/446 [==============================] - 2s 4ms/step - loss: 0.9559 - accuracy: 0.6735 - val_loss: 1.1999 - val_accuracy: 0.6507\n",
      "Epoch 67/250\n",
      "446/446 [==============================] - 2s 4ms/step - loss: 0.9545 - accuracy: 0.6731 - val_loss: 1.1998 - val_accuracy: 0.6505\n",
      "Epoch 68/250\n",
      "446/446 [==============================] - 2s 4ms/step - loss: 0.9554 - accuracy: 0.6736 - val_loss: 1.2000 - val_accuracy: 0.6505\n",
      "Epoch 69/250\n",
      "446/446 [==============================] - 2s 4ms/step - loss: 0.9522 - accuracy: 0.6734 - val_loss: 1.2016 - val_accuracy: 0.6506\n",
      "Epoch 70/250\n",
      "446/446 [==============================] - 2s 4ms/step - loss: 0.9488 - accuracy: 0.6748 - val_loss: 1.2025 - val_accuracy: 0.6501\n",
      "Epoch 71/250\n",
      "446/446 [==============================] - 2s 4ms/step - loss: 0.9442 - accuracy: 0.6758 - val_loss: 1.2018 - val_accuracy: 0.6516\n",
      "Epoch 72/250\n",
      "446/446 [==============================] - 2s 4ms/step - loss: 0.9439 - accuracy: 0.6755 - val_loss: 1.2031 - val_accuracy: 0.6511\n",
      "Epoch 73/250\n",
      "446/446 [==============================] - 2s 4ms/step - loss: 0.9417 - accuracy: 0.6757 - val_loss: 1.2057 - val_accuracy: 0.6505\n",
      "Epoch 74/250\n",
      "446/446 [==============================] - 2s 4ms/step - loss: 0.9383 - accuracy: 0.6766 - val_loss: 1.2033 - val_accuracy: 0.6513\n",
      "Epoch 75/250\n",
      "446/446 [==============================] - 2s 4ms/step - loss: 0.9369 - accuracy: 0.6777 - val_loss: 1.2080 - val_accuracy: 0.6524\n",
      "Epoch 76/250\n",
      "446/446 [==============================] - 2s 4ms/step - loss: 0.9379 - accuracy: 0.6772 - val_loss: 1.2066 - val_accuracy: 0.6501\n",
      "Epoch 77/250\n",
      "446/446 [==============================] - 2s 4ms/step - loss: 0.9347 - accuracy: 0.6781 - val_loss: 1.2087 - val_accuracy: 0.6501\n",
      "Epoch 78/250\n",
      "446/446 [==============================] - 2s 4ms/step - loss: 0.9341 - accuracy: 0.6783 - val_loss: 1.2099 - val_accuracy: 0.6535\n",
      "Epoch 79/250\n",
      "446/446 [==============================] - 2s 4ms/step - loss: 0.9304 - accuracy: 0.6792 - val_loss: 1.2130 - val_accuracy: 0.6541\n",
      "Epoch 80/250\n",
      "446/446 [==============================] - 2s 4ms/step - loss: 0.9284 - accuracy: 0.6806 - val_loss: 1.2139 - val_accuracy: 0.6542\n",
      "Epoch 81/250\n",
      "446/446 [==============================] - 2s 4ms/step - loss: 0.9260 - accuracy: 0.6805 - val_loss: 1.2160 - val_accuracy: 0.6539\n",
      "Epoch 82/250\n",
      "446/446 [==============================] - 2s 4ms/step - loss: 0.9256 - accuracy: 0.6812 - val_loss: 1.2147 - val_accuracy: 0.6531\n",
      "Epoch 83/250\n",
      "446/446 [==============================] - 2s 4ms/step - loss: 0.9253 - accuracy: 0.6805 - val_loss: 1.2181 - val_accuracy: 0.6514\n",
      "Epoch 84/250\n",
      "446/446 [==============================] - 2s 4ms/step - loss: 0.9213 - accuracy: 0.6808 - val_loss: 1.2213 - val_accuracy: 0.6535\n",
      "Epoch 85/250\n",
      "446/446 [==============================] - 2s 4ms/step - loss: 0.9218 - accuracy: 0.6812 - val_loss: 1.2217 - val_accuracy: 0.6557\n",
      "Epoch 86/250\n",
      "446/446 [==============================] - 2s 4ms/step - loss: 0.9191 - accuracy: 0.6829 - val_loss: 1.2234 - val_accuracy: 0.6544\n",
      "Epoch 87/250\n",
      "446/446 [==============================] - 2s 4ms/step - loss: 0.9195 - accuracy: 0.6812 - val_loss: 1.2236 - val_accuracy: 0.6546\n",
      "Epoch 88/250\n",
      "446/446 [==============================] - 2s 4ms/step - loss: 0.9169 - accuracy: 0.6833 - val_loss: 1.2275 - val_accuracy: 0.6530\n",
      "Epoch 89/250\n",
      "446/446 [==============================] - 2s 4ms/step - loss: 0.9153 - accuracy: 0.6826 - val_loss: 1.2287 - val_accuracy: 0.6548\n",
      "Epoch 90/250\n",
      "446/446 [==============================] - 2s 4ms/step - loss: 0.9146 - accuracy: 0.6831 - val_loss: 1.2287 - val_accuracy: 0.6550\n",
      "Epoch 91/250\n",
      "446/446 [==============================] - 2s 4ms/step - loss: 0.9135 - accuracy: 0.6831 - val_loss: 1.2322 - val_accuracy: 0.6536\n",
      "Epoch 92/250\n",
      "446/446 [==============================] - 2s 4ms/step - loss: 0.9124 - accuracy: 0.6833 - val_loss: 1.2301 - val_accuracy: 0.6548\n",
      "Epoch 93/250\n",
      "446/446 [==============================] - 2s 4ms/step - loss: 0.9080 - accuracy: 0.6845 - val_loss: 1.2283 - val_accuracy: 0.6549\n",
      "Epoch 94/250\n",
      "446/446 [==============================] - 2s 4ms/step - loss: 0.9092 - accuracy: 0.6849 - val_loss: 1.2354 - val_accuracy: 0.6544\n",
      "Epoch 95/250\n",
      "446/446 [==============================] - 2s 4ms/step - loss: 0.9089 - accuracy: 0.6859 - val_loss: 1.2390 - val_accuracy: 0.6550\n",
      "Epoch 96/250\n",
      "446/446 [==============================] - 2s 4ms/step - loss: 0.9053 - accuracy: 0.6844 - val_loss: 1.2394 - val_accuracy: 0.6551\n",
      "Epoch 97/250\n",
      "446/446 [==============================] - 2s 4ms/step - loss: 0.9038 - accuracy: 0.6856 - val_loss: 1.2413 - val_accuracy: 0.6572\n",
      "Epoch 98/250\n",
      "446/446 [==============================] - 2s 4ms/step - loss: 0.9035 - accuracy: 0.6859 - val_loss: 1.2443 - val_accuracy: 0.6562\n",
      "Epoch 99/250\n",
      "446/446 [==============================] - 2s 4ms/step - loss: 0.9013 - accuracy: 0.6863 - val_loss: 1.2466 - val_accuracy: 0.6552\n",
      "Epoch 100/250\n",
      "446/446 [==============================] - 2s 4ms/step - loss: 0.9034 - accuracy: 0.6867 - val_loss: 1.2479 - val_accuracy: 0.6554\n",
      "Epoch 101/250\n",
      "446/446 [==============================] - 2s 4ms/step - loss: 0.8982 - accuracy: 0.6871 - val_loss: 1.2487 - val_accuracy: 0.6554\n",
      "Epoch 102/250\n",
      "446/446 [==============================] - 2s 4ms/step - loss: 0.8992 - accuracy: 0.6870 - val_loss: 1.2489 - val_accuracy: 0.6567\n",
      "Epoch 103/250\n",
      "446/446 [==============================] - 2s 4ms/step - loss: 0.8956 - accuracy: 0.6890 - val_loss: 1.2481 - val_accuracy: 0.6559\n",
      "Epoch 104/250\n",
      "446/446 [==============================] - 2s 4ms/step - loss: 0.8965 - accuracy: 0.6875 - val_loss: 1.2550 - val_accuracy: 0.6573\n",
      "Epoch 105/250\n",
      "446/446 [==============================] - 2s 4ms/step - loss: 0.8944 - accuracy: 0.6902 - val_loss: 1.2550 - val_accuracy: 0.6557\n",
      "Epoch 106/250\n",
      "446/446 [==============================] - 2s 4ms/step - loss: 0.8949 - accuracy: 0.6878 - val_loss: 1.2524 - val_accuracy: 0.6554\n",
      "Epoch 107/250\n",
      "446/446 [==============================] - 2s 4ms/step - loss: 0.8947 - accuracy: 0.6888 - val_loss: 1.2589 - val_accuracy: 0.6573\n",
      "Epoch 108/250\n",
      "446/446 [==============================] - 2s 4ms/step - loss: 0.8899 - accuracy: 0.6897 - val_loss: 1.2587 - val_accuracy: 0.6567\n",
      "Epoch 109/250\n",
      "446/446 [==============================] - 2s 4ms/step - loss: 0.8914 - accuracy: 0.6888 - val_loss: 1.2612 - val_accuracy: 0.6567\n",
      "Epoch 110/250\n",
      "446/446 [==============================] - 2s 4ms/step - loss: 0.8918 - accuracy: 0.6886 - val_loss: 1.2614 - val_accuracy: 0.6557\n",
      "Epoch 111/250\n",
      "446/446 [==============================] - 2s 4ms/step - loss: 0.8900 - accuracy: 0.6888 - val_loss: 1.2710 - val_accuracy: 0.6570\n",
      "Epoch 112/250\n",
      "446/446 [==============================] - 2s 4ms/step - loss: 0.8869 - accuracy: 0.6910 - val_loss: 1.2659 - val_accuracy: 0.6578\n",
      "Epoch 113/250\n",
      "446/446 [==============================] - 2s 4ms/step - loss: 0.8864 - accuracy: 0.6901 - val_loss: 1.2682 - val_accuracy: 0.6550\n",
      "Epoch 114/250\n",
      "446/446 [==============================] - 2s 4ms/step - loss: 0.8866 - accuracy: 0.6908 - val_loss: 1.2705 - val_accuracy: 0.6546\n",
      "Epoch 115/250\n",
      "446/446 [==============================] - 2s 4ms/step - loss: 0.8854 - accuracy: 0.6905 - val_loss: 1.2704 - val_accuracy: 0.6551\n",
      "Epoch 116/250\n",
      "446/446 [==============================] - 2s 4ms/step - loss: 0.8830 - accuracy: 0.6922 - val_loss: 1.2732 - val_accuracy: 0.6560\n",
      "Epoch 117/250\n",
      "446/446 [==============================] - 2s 4ms/step - loss: 0.8817 - accuracy: 0.6913 - val_loss: 1.2749 - val_accuracy: 0.6539\n",
      "Epoch 118/250\n",
      "446/446 [==============================] - 2s 4ms/step - loss: 0.8826 - accuracy: 0.6918 - val_loss: 1.2780 - val_accuracy: 0.6567\n",
      "Epoch 119/250\n",
      "446/446 [==============================] - 2s 4ms/step - loss: 0.8823 - accuracy: 0.6910 - val_loss: 1.2794 - val_accuracy: 0.6552\n",
      "Epoch 120/250\n",
      "446/446 [==============================] - 2s 4ms/step - loss: 0.8822 - accuracy: 0.6910 - val_loss: 1.2784 - val_accuracy: 0.6556\n",
      "Epoch 121/250\n",
      "446/446 [==============================] - 2s 4ms/step - loss: 0.8806 - accuracy: 0.6913 - val_loss: 1.2818 - val_accuracy: 0.6568\n",
      "Epoch 122/250\n",
      "446/446 [==============================] - 2s 4ms/step - loss: 0.8781 - accuracy: 0.6924 - val_loss: 1.2821 - val_accuracy: 0.6567\n",
      "Epoch 123/250\n",
      "446/446 [==============================] - 2s 4ms/step - loss: 0.8786 - accuracy: 0.6920 - val_loss: 1.2801 - val_accuracy: 0.6557\n",
      "Epoch 124/250\n",
      "446/446 [==============================] - 2s 4ms/step - loss: 0.8798 - accuracy: 0.6912 - val_loss: 1.2882 - val_accuracy: 0.6578\n",
      "Epoch 125/250\n",
      "446/446 [==============================] - 2s 4ms/step - loss: 0.8777 - accuracy: 0.6918 - val_loss: 1.2889 - val_accuracy: 0.6566\n",
      "Epoch 126/250\n",
      "446/446 [==============================] - 2s 4ms/step - loss: 0.8749 - accuracy: 0.6931 - val_loss: 1.2930 - val_accuracy: 0.6569\n",
      "Epoch 127/250\n",
      "446/446 [==============================] - 2s 4ms/step - loss: 0.8747 - accuracy: 0.6936 - val_loss: 1.2942 - val_accuracy: 0.6584\n",
      "Epoch 128/250\n",
      "446/446 [==============================] - 2s 4ms/step - loss: 0.8752 - accuracy: 0.6939 - val_loss: 1.2945 - val_accuracy: 0.6569\n",
      "Epoch 129/250\n",
      "446/446 [==============================] - 2s 4ms/step - loss: 0.8748 - accuracy: 0.6936 - val_loss: 1.2959 - val_accuracy: 0.6572\n",
      "Epoch 130/250\n",
      "446/446 [==============================] - 2s 4ms/step - loss: 0.8731 - accuracy: 0.6941 - val_loss: 1.2991 - val_accuracy: 0.6564\n",
      "Epoch 131/250\n",
      "446/446 [==============================] - 2s 4ms/step - loss: 0.8717 - accuracy: 0.6939 - val_loss: 1.3036 - val_accuracy: 0.6572\n",
      "Epoch 132/250\n",
      "446/446 [==============================] - 2s 4ms/step - loss: 0.8713 - accuracy: 0.6936 - val_loss: 1.3077 - val_accuracy: 0.6565\n",
      "Epoch 133/250\n",
      "446/446 [==============================] - 2s 4ms/step - loss: 0.8704 - accuracy: 0.6945 - val_loss: 1.3064 - val_accuracy: 0.6575\n",
      "Epoch 134/250\n",
      "446/446 [==============================] - 2s 4ms/step - loss: 0.8688 - accuracy: 0.6947 - val_loss: 1.3095 - val_accuracy: 0.6548\n",
      "Epoch 135/250\n",
      "446/446 [==============================] - 2s 4ms/step - loss: 0.8693 - accuracy: 0.6945 - val_loss: 1.3110 - val_accuracy: 0.6576\n",
      "Epoch 136/250\n",
      "446/446 [==============================] - 2s 4ms/step - loss: 0.8693 - accuracy: 0.6952 - val_loss: 1.3141 - val_accuracy: 0.6584\n",
      "Epoch 137/250\n",
      "446/446 [==============================] - 2s 4ms/step - loss: 0.8690 - accuracy: 0.6949 - val_loss: 1.3117 - val_accuracy: 0.6582\n",
      "Epoch 138/250\n",
      "446/446 [==============================] - 2s 4ms/step - loss: 0.8696 - accuracy: 0.6940 - val_loss: 1.3166 - val_accuracy: 0.6572\n",
      "Epoch 139/250\n",
      "446/446 [==============================] - 2s 4ms/step - loss: 0.8662 - accuracy: 0.6949 - val_loss: 1.3195 - val_accuracy: 0.6582\n",
      "Epoch 140/250\n",
      "446/446 [==============================] - 2s 4ms/step - loss: 0.8655 - accuracy: 0.6963 - val_loss: 1.3186 - val_accuracy: 0.6597\n",
      "Epoch 141/250\n",
      "446/446 [==============================] - 2s 4ms/step - loss: 0.8641 - accuracy: 0.6960 - val_loss: 1.3222 - val_accuracy: 0.6576\n",
      "Epoch 142/250\n",
      "446/446 [==============================] - 2s 4ms/step - loss: 0.8666 - accuracy: 0.6949 - val_loss: 1.3295 - val_accuracy: 0.6566\n",
      "Epoch 143/250\n",
      "446/446 [==============================] - 2s 4ms/step - loss: 0.8651 - accuracy: 0.6958 - val_loss: 1.3289 - val_accuracy: 0.6578\n",
      "Epoch 144/250\n",
      "446/446 [==============================] - 2s 4ms/step - loss: 0.8646 - accuracy: 0.6963 - val_loss: 1.3360 - val_accuracy: 0.6565\n",
      "Epoch 145/250\n",
      "446/446 [==============================] - 2s 4ms/step - loss: 0.8644 - accuracy: 0.6956 - val_loss: 1.3333 - val_accuracy: 0.6572\n",
      "Epoch 146/250\n",
      "446/446 [==============================] - 2s 4ms/step - loss: 0.8623 - accuracy: 0.6964 - val_loss: 1.3398 - val_accuracy: 0.6569\n",
      "Epoch 147/250\n",
      "446/446 [==============================] - 2s 4ms/step - loss: 0.8636 - accuracy: 0.6947 - val_loss: 1.3410 - val_accuracy: 0.6580\n",
      "Epoch 148/250\n",
      "446/446 [==============================] - 2s 4ms/step - loss: 0.8610 - accuracy: 0.6967 - val_loss: 1.3423 - val_accuracy: 0.6572\n",
      "Epoch 149/250\n",
      "446/446 [==============================] - 2s 4ms/step - loss: 0.8629 - accuracy: 0.6955 - val_loss: 1.3440 - val_accuracy: 0.6573\n",
      "Epoch 150/250\n",
      "446/446 [==============================] - 2s 5ms/step - loss: 0.8631 - accuracy: 0.6953 - val_loss: 1.3463 - val_accuracy: 0.6571\n",
      "Epoch 151/250\n",
      "446/446 [==============================] - 2s 4ms/step - loss: 0.8609 - accuracy: 0.6960 - val_loss: 1.3469 - val_accuracy: 0.6584\n",
      "Epoch 152/250\n",
      "446/446 [==============================] - 2s 4ms/step - loss: 0.8590 - accuracy: 0.6967 - val_loss: 1.3471 - val_accuracy: 0.6591\n",
      "Epoch 153/250\n",
      "446/446 [==============================] - 2s 4ms/step - loss: 0.8598 - accuracy: 0.6975 - val_loss: 1.3521 - val_accuracy: 0.6577\n",
      "Epoch 154/250\n",
      "446/446 [==============================] - 2s 4ms/step - loss: 0.8597 - accuracy: 0.6971 - val_loss: 1.3551 - val_accuracy: 0.6601\n",
      "Epoch 155/250\n",
      "446/446 [==============================] - 2s 4ms/step - loss: 0.8579 - accuracy: 0.6965 - val_loss: 1.3540 - val_accuracy: 0.6579\n",
      "Epoch 156/250\n",
      "446/446 [==============================] - 2s 4ms/step - loss: 0.8574 - accuracy: 0.6986 - val_loss: 1.3537 - val_accuracy: 0.6572\n",
      "Epoch 157/250\n",
      "446/446 [==============================] - 2s 4ms/step - loss: 0.8575 - accuracy: 0.6974 - val_loss: 1.3551 - val_accuracy: 0.6595\n",
      "Epoch 158/250\n",
      "446/446 [==============================] - 2s 5ms/step - loss: 0.8565 - accuracy: 0.6977 - val_loss: 1.3623 - val_accuracy: 0.6606\n",
      "Epoch 159/250\n",
      "446/446 [==============================] - 2s 4ms/step - loss: 0.8567 - accuracy: 0.6983 - val_loss: 1.3614 - val_accuracy: 0.6584\n",
      "Epoch 160/250\n",
      "446/446 [==============================] - 2s 4ms/step - loss: 0.8541 - accuracy: 0.6985 - val_loss: 1.3644 - val_accuracy: 0.6589\n",
      "Epoch 161/250\n",
      "446/446 [==============================] - 2s 4ms/step - loss: 0.8557 - accuracy: 0.6980 - val_loss: 1.3639 - val_accuracy: 0.6584\n",
      "Epoch 162/250\n",
      "446/446 [==============================] - 2s 4ms/step - loss: 0.8557 - accuracy: 0.6988 - val_loss: 1.3681 - val_accuracy: 0.6586\n",
      "Epoch 163/250\n",
      "446/446 [==============================] - 2s 4ms/step - loss: 0.8550 - accuracy: 0.6980 - val_loss: 1.3689 - val_accuracy: 0.6569\n",
      "Epoch 164/250\n",
      "446/446 [==============================] - 2s 4ms/step - loss: 0.8550 - accuracy: 0.6985 - val_loss: 1.3761 - val_accuracy: 0.6563\n",
      "Epoch 165/250\n",
      "446/446 [==============================] - 2s 4ms/step - loss: 0.8550 - accuracy: 0.6986 - val_loss: 1.3756 - val_accuracy: 0.6593\n",
      "Epoch 166/250\n",
      "446/446 [==============================] - 2s 4ms/step - loss: 0.8542 - accuracy: 0.6974 - val_loss: 1.3754 - val_accuracy: 0.6600\n",
      "Epoch 167/250\n",
      "446/446 [==============================] - 2s 4ms/step - loss: 0.8534 - accuracy: 0.6981 - val_loss: 1.3769 - val_accuracy: 0.6593\n",
      "Epoch 168/250\n",
      "446/446 [==============================] - 2s 4ms/step - loss: 0.8541 - accuracy: 0.6982 - val_loss: 1.3819 - val_accuracy: 0.6607\n",
      "Epoch 169/250\n",
      "446/446 [==============================] - 2s 4ms/step - loss: 0.8525 - accuracy: 0.6986 - val_loss: 1.3800 - val_accuracy: 0.6608\n",
      "Epoch 170/250\n",
      "446/446 [==============================] - 2s 4ms/step - loss: 0.8519 - accuracy: 0.6985 - val_loss: 1.3867 - val_accuracy: 0.6596\n",
      "Epoch 171/250\n",
      "446/446 [==============================] - 2s 4ms/step - loss: 0.8509 - accuracy: 0.6998 - val_loss: 1.3890 - val_accuracy: 0.6606\n",
      "Epoch 172/250\n",
      "446/446 [==============================] - 2s 4ms/step - loss: 0.8501 - accuracy: 0.7000 - val_loss: 1.3950 - val_accuracy: 0.6616\n",
      "Epoch 173/250\n",
      "446/446 [==============================] - 2s 4ms/step - loss: 0.8540 - accuracy: 0.6982 - val_loss: 1.3969 - val_accuracy: 0.6587\n",
      "Epoch 174/250\n",
      "446/446 [==============================] - 2s 4ms/step - loss: 0.8502 - accuracy: 0.6991 - val_loss: 1.3958 - val_accuracy: 0.6584\n",
      "Epoch 175/250\n",
      "446/446 [==============================] - 2s 5ms/step - loss: 0.8496 - accuracy: 0.6993 - val_loss: 1.3985 - val_accuracy: 0.6601\n",
      "Epoch 176/250\n",
      "446/446 [==============================] - 2s 4ms/step - loss: 0.8509 - accuracy: 0.6997 - val_loss: 1.3982 - val_accuracy: 0.6585\n",
      "Epoch 177/250\n",
      "446/446 [==============================] - 2s 4ms/step - loss: 0.8495 - accuracy: 0.6996 - val_loss: 1.4020 - val_accuracy: 0.6582\n",
      "Epoch 178/250\n",
      "446/446 [==============================] - 2s 4ms/step - loss: 0.8473 - accuracy: 0.7004 - val_loss: 1.4086 - val_accuracy: 0.6608\n",
      "Epoch 179/250\n",
      "446/446 [==============================] - 2s 4ms/step - loss: 0.8467 - accuracy: 0.7005 - val_loss: 1.4112 - val_accuracy: 0.6592\n",
      "Epoch 180/250\n",
      "446/446 [==============================] - 2s 4ms/step - loss: 0.8490 - accuracy: 0.6999 - val_loss: 1.4145 - val_accuracy: 0.6608\n",
      "Epoch 181/250\n",
      "446/446 [==============================] - 2s 4ms/step - loss: 0.8480 - accuracy: 0.6997 - val_loss: 1.4171 - val_accuracy: 0.6595\n",
      "Epoch 182/250\n",
      "446/446 [==============================] - 2s 4ms/step - loss: 0.8469 - accuracy: 0.7011 - val_loss: 1.4208 - val_accuracy: 0.6606\n",
      "Epoch 183/250\n",
      "446/446 [==============================] - 2s 5ms/step - loss: 0.8478 - accuracy: 0.7003 - val_loss: 1.4203 - val_accuracy: 0.6623\n",
      "Epoch 184/250\n",
      "446/446 [==============================] - 2s 4ms/step - loss: 0.8458 - accuracy: 0.7009 - val_loss: 1.4296 - val_accuracy: 0.6615\n",
      "Epoch 185/250\n",
      "446/446 [==============================] - 2s 4ms/step - loss: 0.8475 - accuracy: 0.7000 - val_loss: 1.4279 - val_accuracy: 0.6603\n",
      "Epoch 186/250\n",
      "446/446 [==============================] - 2s 4ms/step - loss: 0.8455 - accuracy: 0.7005 - val_loss: 1.4270 - val_accuracy: 0.6595\n",
      "Epoch 187/250\n",
      "446/446 [==============================] - 2s 4ms/step - loss: 0.8469 - accuracy: 0.7009 - val_loss: 1.4274 - val_accuracy: 0.6612\n",
      "Epoch 188/250\n",
      "446/446 [==============================] - 2s 4ms/step - loss: 0.8459 - accuracy: 0.6994 - val_loss: 1.4276 - val_accuracy: 0.6615\n",
      "Epoch 189/250\n",
      "446/446 [==============================] - 2s 4ms/step - loss: 0.8477 - accuracy: 0.7008 - val_loss: 1.4313 - val_accuracy: 0.6619\n",
      "Epoch 190/250\n",
      "446/446 [==============================] - 2s 4ms/step - loss: 0.8451 - accuracy: 0.7010 - val_loss: 1.4340 - val_accuracy: 0.6595\n",
      "Epoch 191/250\n",
      "446/446 [==============================] - 2s 5ms/step - loss: 0.8448 - accuracy: 0.7008 - val_loss: 1.4374 - val_accuracy: 0.6618\n",
      "Epoch 192/250\n",
      "446/446 [==============================] - 2s 4ms/step - loss: 0.8445 - accuracy: 0.7012 - val_loss: 1.4402 - val_accuracy: 0.6602\n",
      "Epoch 193/250\n",
      "446/446 [==============================] - 2s 4ms/step - loss: 0.8435 - accuracy: 0.6999 - val_loss: 1.4417 - val_accuracy: 0.6592\n",
      "Epoch 194/250\n",
      "446/446 [==============================] - 2s 4ms/step - loss: 0.8444 - accuracy: 0.6998 - val_loss: 1.4458 - val_accuracy: 0.6617\n",
      "Epoch 195/250\n",
      "446/446 [==============================] - 2s 4ms/step - loss: 0.8418 - accuracy: 0.7017 - val_loss: 1.4463 - val_accuracy: 0.6632\n",
      "Epoch 196/250\n",
      "446/446 [==============================] - 2s 4ms/step - loss: 0.8419 - accuracy: 0.7029 - val_loss: 1.4454 - val_accuracy: 0.6614\n",
      "Epoch 197/250\n",
      "446/446 [==============================] - 2s 4ms/step - loss: 0.8430 - accuracy: 0.7012 - val_loss: 1.4461 - val_accuracy: 0.6624\n",
      "Epoch 198/250\n",
      "446/446 [==============================] - 2s 4ms/step - loss: 0.8420 - accuracy: 0.7013 - val_loss: 1.4541 - val_accuracy: 0.6625\n",
      "Epoch 199/250\n",
      "446/446 [==============================] - 2s 4ms/step - loss: 0.8416 - accuracy: 0.7025 - val_loss: 1.4560 - val_accuracy: 0.6619\n",
      "Epoch 200/250\n",
      "446/446 [==============================] - 2s 4ms/step - loss: 0.8440 - accuracy: 0.7009 - val_loss: 1.4562 - val_accuracy: 0.6624\n",
      "Epoch 201/250\n",
      "446/446 [==============================] - 2s 4ms/step - loss: 0.8412 - accuracy: 0.7013 - val_loss: 1.4599 - val_accuracy: 0.6625\n",
      "Epoch 202/250\n",
      "446/446 [==============================] - 2s 4ms/step - loss: 0.8414 - accuracy: 0.7024 - val_loss: 1.4653 - val_accuracy: 0.6624\n",
      "Epoch 203/250\n",
      "446/446 [==============================] - 2s 4ms/step - loss: 0.8422 - accuracy: 0.7012 - val_loss: 1.4667 - val_accuracy: 0.6616\n",
      "Epoch 204/250\n",
      "446/446 [==============================] - 2s 4ms/step - loss: 0.8391 - accuracy: 0.7022 - val_loss: 1.4663 - val_accuracy: 0.6599\n",
      "Epoch 205/250\n",
      "446/446 [==============================] - 2s 4ms/step - loss: 0.8391 - accuracy: 0.7027 - val_loss: 1.4705 - val_accuracy: 0.6605\n",
      "Epoch 206/250\n",
      "446/446 [==============================] - 2s 4ms/step - loss: 0.8396 - accuracy: 0.7027 - val_loss: 1.4733 - val_accuracy: 0.6612\n",
      "Epoch 207/250\n",
      "446/446 [==============================] - 2s 4ms/step - loss: 0.8399 - accuracy: 0.7015 - val_loss: 1.4758 - val_accuracy: 0.6601\n",
      "Epoch 208/250\n",
      "446/446 [==============================] - 2s 4ms/step - loss: 0.8374 - accuracy: 0.7027 - val_loss: 1.4838 - val_accuracy: 0.6600\n",
      "Epoch 209/250\n",
      "446/446 [==============================] - 2s 4ms/step - loss: 0.8388 - accuracy: 0.7027 - val_loss: 1.4832 - val_accuracy: 0.6603\n",
      "Epoch 210/250\n",
      "446/446 [==============================] - 2s 4ms/step - loss: 0.8394 - accuracy: 0.7021 - val_loss: 1.4834 - val_accuracy: 0.6592\n",
      "Epoch 211/250\n",
      "446/446 [==============================] - 2s 4ms/step - loss: 0.8385 - accuracy: 0.7031 - val_loss: 1.4857 - val_accuracy: 0.6592\n",
      "Epoch 212/250\n",
      "446/446 [==============================] - 2s 4ms/step - loss: 0.8373 - accuracy: 0.7029 - val_loss: 1.4872 - val_accuracy: 0.6608\n",
      "Epoch 213/250\n",
      "446/446 [==============================] - 2s 4ms/step - loss: 0.8390 - accuracy: 0.7024 - val_loss: 1.4910 - val_accuracy: 0.6606\n",
      "Epoch 214/250\n",
      "446/446 [==============================] - 2s 4ms/step - loss: 0.8362 - accuracy: 0.7031 - val_loss: 1.4885 - val_accuracy: 0.6602\n",
      "Epoch 215/250\n",
      "446/446 [==============================] - 2s 4ms/step - loss: 0.8368 - accuracy: 0.7028 - val_loss: 1.4922 - val_accuracy: 0.6618\n",
      "Epoch 216/250\n",
      "446/446 [==============================] - 2s 4ms/step - loss: 0.8372 - accuracy: 0.7030 - val_loss: 1.4893 - val_accuracy: 0.6604\n",
      "Epoch 217/250\n",
      "446/446 [==============================] - 2s 4ms/step - loss: 0.8375 - accuracy: 0.7027 - val_loss: 1.4915 - val_accuracy: 0.6610\n",
      "Epoch 218/250\n",
      "446/446 [==============================] - 2s 4ms/step - loss: 0.8369 - accuracy: 0.7029 - val_loss: 1.4930 - val_accuracy: 0.6615\n",
      "Epoch 219/250\n",
      "446/446 [==============================] - 2s 4ms/step - loss: 0.8374 - accuracy: 0.7025 - val_loss: 1.4999 - val_accuracy: 0.6605\n",
      "Epoch 220/250\n",
      "446/446 [==============================] - 2s 4ms/step - loss: 0.8368 - accuracy: 0.7024 - val_loss: 1.5028 - val_accuracy: 0.6614\n",
      "Epoch 221/250\n",
      "446/446 [==============================] - 2s 4ms/step - loss: 0.8355 - accuracy: 0.7034 - val_loss: 1.5058 - val_accuracy: 0.6599\n",
      "Epoch 222/250\n",
      "446/446 [==============================] - 2s 4ms/step - loss: 0.8353 - accuracy: 0.7029 - val_loss: 1.5041 - val_accuracy: 0.6602\n",
      "Epoch 223/250\n",
      "446/446 [==============================] - 2s 4ms/step - loss: 0.8368 - accuracy: 0.7032 - val_loss: 1.5086 - val_accuracy: 0.6608\n",
      "Epoch 224/250\n",
      "446/446 [==============================] - 2s 4ms/step - loss: 0.8365 - accuracy: 0.7028 - val_loss: 1.5069 - val_accuracy: 0.6608\n",
      "Epoch 225/250\n",
      "446/446 [==============================] - 2s 4ms/step - loss: 0.8347 - accuracy: 0.7025 - val_loss: 1.5107 - val_accuracy: 0.6606\n",
      "Epoch 226/250\n",
      "446/446 [==============================] - 2s 4ms/step - loss: 0.8353 - accuracy: 0.7028 - val_loss: 1.5133 - val_accuracy: 0.6581\n",
      "Epoch 227/250\n",
      "446/446 [==============================] - 2s 4ms/step - loss: 0.8361 - accuracy: 0.7030 - val_loss: 1.5160 - val_accuracy: 0.6614\n",
      "Epoch 228/250\n",
      "446/446 [==============================] - 2s 4ms/step - loss: 0.8340 - accuracy: 0.7025 - val_loss: 1.5233 - val_accuracy: 0.6603\n",
      "Epoch 229/250\n",
      "446/446 [==============================] - 2s 4ms/step - loss: 0.8337 - accuracy: 0.7036 - val_loss: 1.5199 - val_accuracy: 0.6605\n",
      "Epoch 230/250\n",
      "446/446 [==============================] - 2s 4ms/step - loss: 0.8359 - accuracy: 0.7025 - val_loss: 1.5229 - val_accuracy: 0.6615\n",
      "Epoch 231/250\n",
      "446/446 [==============================] - 2s 4ms/step - loss: 0.8331 - accuracy: 0.7030 - val_loss: 1.5267 - val_accuracy: 0.6622\n",
      "Epoch 232/250\n",
      "446/446 [==============================] - 2s 4ms/step - loss: 0.8348 - accuracy: 0.7039 - val_loss: 1.5256 - val_accuracy: 0.6614\n",
      "Epoch 233/250\n",
      "446/446 [==============================] - 2s 4ms/step - loss: 0.8353 - accuracy: 0.7025 - val_loss: 1.5337 - val_accuracy: 0.6602\n",
      "Epoch 234/250\n",
      "446/446 [==============================] - 2s 4ms/step - loss: 0.8329 - accuracy: 0.7040 - val_loss: 1.5314 - val_accuracy: 0.6620\n",
      "Epoch 235/250\n",
      "446/446 [==============================] - 2s 4ms/step - loss: 0.8313 - accuracy: 0.7044 - val_loss: 1.5405 - val_accuracy: 0.6600\n",
      "Epoch 236/250\n",
      "446/446 [==============================] - 2s 4ms/step - loss: 0.8348 - accuracy: 0.7042 - val_loss: 1.5350 - val_accuracy: 0.6607\n",
      "Epoch 237/250\n",
      "446/446 [==============================] - 2s 4ms/step - loss: 0.8309 - accuracy: 0.7044 - val_loss: 1.5491 - val_accuracy: 0.6608\n",
      "Epoch 238/250\n",
      "446/446 [==============================] - 2s 4ms/step - loss: 0.8322 - accuracy: 0.7043 - val_loss: 1.5452 - val_accuracy: 0.6613\n",
      "Epoch 239/250\n",
      "446/446 [==============================] - 2s 5ms/step - loss: 0.8337 - accuracy: 0.7025 - val_loss: 1.5489 - val_accuracy: 0.6614\n",
      "Epoch 240/250\n",
      "446/446 [==============================] - 2s 5ms/step - loss: 0.8315 - accuracy: 0.7040 - val_loss: 1.5506 - val_accuracy: 0.6610\n",
      "Epoch 241/250\n",
      "446/446 [==============================] - 2s 5ms/step - loss: 0.8304 - accuracy: 0.7056 - val_loss: 1.5523 - val_accuracy: 0.6613\n",
      "Epoch 242/250\n",
      "446/446 [==============================] - 2s 4ms/step - loss: 0.8308 - accuracy: 0.7049 - val_loss: 1.5579 - val_accuracy: 0.6617\n",
      "Epoch 243/250\n",
      "446/446 [==============================] - 2s 4ms/step - loss: 0.8302 - accuracy: 0.7046 - val_loss: 1.5561 - val_accuracy: 0.6610\n",
      "Epoch 244/250\n",
      "446/446 [==============================] - 2s 4ms/step - loss: 0.8310 - accuracy: 0.7042 - val_loss: 1.5588 - val_accuracy: 0.6612\n",
      "Epoch 245/250\n",
      "446/446 [==============================] - 2s 5ms/step - loss: 0.8294 - accuracy: 0.7054 - val_loss: 1.5579 - val_accuracy: 0.6608\n",
      "Epoch 246/250\n",
      "446/446 [==============================] - 2s 4ms/step - loss: 0.8295 - accuracy: 0.7046 - val_loss: 1.5635 - val_accuracy: 0.6618\n",
      "Epoch 247/250\n",
      "446/446 [==============================] - 2s 4ms/step - loss: 0.8302 - accuracy: 0.7049 - val_loss: 1.5656 - val_accuracy: 0.6614\n",
      "Epoch 248/250\n",
      "446/446 [==============================] - 2s 4ms/step - loss: 0.8309 - accuracy: 0.7054 - val_loss: 1.5649 - val_accuracy: 0.6607\n",
      "Epoch 249/250\n",
      "446/446 [==============================] - 2s 4ms/step - loss: 0.8295 - accuracy: 0.7047 - val_loss: 1.5728 - val_accuracy: 0.6601\n",
      "Epoch 250/250\n",
      "446/446 [==============================] - 2s 4ms/step - loss: 0.8321 - accuracy: 0.7045 - val_loss: 1.5730 - val_accuracy: 0.6617\n"
     ]
    }
   ],
   "source": [
    "history = model.fit(x_train, y_train,\n",
    "                    batch_size=batch_size,\n",
    "                    epochs=epochs,\n",
    "                    verbose=1,\n",
    "                    validation_split=0.1)"
   ]
  },
  {
   "cell_type": "code",
   "execution_count": 132,
   "metadata": {},
   "outputs": [
    {
     "name": "stdout",
     "output_type": "stream",
     "text": [
      "213/213 [==============================] - 0s 2ms/step - loss: 1.5851 - accuracy: 0.6532\n",
      "Test accuracy: 0.6532115340232849\n"
     ]
    }
   ],
   "source": [
    "score = model.evaluate(x_test, y_test,\n",
    "                       batch_size=batch_size, verbose=1)\n",
    "print('Test accuracy:', score[1])"
   ]
  },
  {
   "cell_type": "markdown",
   "metadata": {},
   "source": [
    "# Sınırlandırarak Deneme"
   ]
  },
  {
   "cell_type": "code",
   "execution_count": 162,
   "metadata": {},
   "outputs": [],
   "source": [
    "df = pd.DataFrame(columns=[\"Dize\", \"Dönem\"])"
   ]
  },
  {
   "cell_type": "code",
   "execution_count": 177,
   "metadata": {},
   "outputs": [
    {
     "data": {
      "text/html": [
       "<div>\n",
       "<style scoped>\n",
       "    .dataframe tbody tr th:only-of-type {\n",
       "        vertical-align: middle;\n",
       "    }\n",
       "\n",
       "    .dataframe tbody tr th {\n",
       "        vertical-align: top;\n",
       "    }\n",
       "\n",
       "    .dataframe thead th {\n",
       "        text-align: right;\n",
       "    }\n",
       "</style>\n",
       "<table border=\"1\" class=\"dataframe\">\n",
       "  <thead>\n",
       "    <tr style=\"text-align: right;\">\n",
       "      <th></th>\n",
       "      <th>Dize</th>\n",
       "      <th>Dönem</th>\n",
       "    </tr>\n",
       "  </thead>\n",
       "  <tbody>\n",
       "    <tr>\n",
       "      <th>0</th>\n",
       "      <td>fırtınadan saçların çözülmüş bir demetti</td>\n",
       "      <td>Hececiler</td>\n",
       "    </tr>\n",
       "    <tr>\n",
       "      <th>1</th>\n",
       "      <td>bu ağrılar duyurmaz sana yalnızlığını</td>\n",
       "      <td>Hececiler</td>\n",
       "    </tr>\n",
       "    <tr>\n",
       "      <th>2</th>\n",
       "      <td>gözleri volkan kesilir</td>\n",
       "      <td>Hececiler</td>\n",
       "    </tr>\n",
       "    <tr>\n",
       "      <th>3</th>\n",
       "      <td>hamdolsun her yanın bereket dolu</td>\n",
       "      <td>Hececiler</td>\n",
       "    </tr>\n",
       "    <tr>\n",
       "      <th>4</th>\n",
       "      <td>kızıl dudaklarından bırakma ıslığını</td>\n",
       "      <td>Hececiler</td>\n",
       "    </tr>\n",
       "    <tr>\n",
       "      <th>...</th>\n",
       "      <td>...</td>\n",
       "      <td>...</td>\n",
       "    </tr>\n",
       "    <tr>\n",
       "      <th>14995</th>\n",
       "      <td>ve onlar sevdasini soylemeden bir sokaga sapanlar</td>\n",
       "      <td>İkinci Yeni</td>\n",
       "    </tr>\n",
       "    <tr>\n",
       "      <th>14996</th>\n",
       "      <td>sevdimdi tam otuzunda</td>\n",
       "      <td>İkinci Yeni</td>\n",
       "    </tr>\n",
       "    <tr>\n",
       "      <th>14997</th>\n",
       "      <td>çünkü belki isanın</td>\n",
       "      <td>İkinci Yeni</td>\n",
       "    </tr>\n",
       "    <tr>\n",
       "      <th>14998</th>\n",
       "      <td>fitne bastırılıncaya kadar savaşın</td>\n",
       "      <td>İkinci Yeni</td>\n",
       "    </tr>\n",
       "    <tr>\n",
       "      <th>14999</th>\n",
       "      <td>gelir vurur kızların bacaklarına</td>\n",
       "      <td>İkinci Yeni</td>\n",
       "    </tr>\n",
       "  </tbody>\n",
       "</table>\n",
       "<p>15000 rows × 2 columns</p>\n",
       "</div>"
      ],
      "text/plain": [
       "                                                    Dize        Dönem\n",
       "0               fırtınadan saçların çözülmüş bir demetti    Hececiler\n",
       "1                  bu ağrılar duyurmaz sana yalnızlığını    Hececiler\n",
       "2                                 gözleri volkan kesilir    Hececiler\n",
       "3                       hamdolsun her yanın bereket dolu    Hececiler\n",
       "4                   kızıl dudaklarından bırakma ıslığını    Hececiler\n",
       "...                                                  ...          ...\n",
       "14995  ve onlar sevdasini soylemeden bir sokaga sapanlar  İkinci Yeni\n",
       "14996                              sevdimdi tam otuzunda  İkinci Yeni\n",
       "14997                                 çünkü belki isanın  İkinci Yeni\n",
       "14998                 fitne bastırılıncaya kadar savaşın  İkinci Yeni\n",
       "14999                   gelir vurur kızların bacaklarına  İkinci Yeni\n",
       "\n",
       "[15000 rows x 2 columns]"
      ]
     },
     "execution_count": 177,
     "metadata": {},
     "output_type": "execute_result"
    }
   ],
   "source": [
    "df = pd.concat([data[data[\"Dönem\"] == \"Hececiler\"][:1000], df], ignore_index=True)\n",
    "df"
   ]
  },
  {
   "cell_type": "markdown",
   "metadata": {},
   "source": [
    "## Lojistik Regresyon"
   ]
  },
  {
   "cell_type": "code",
   "execution_count": 181,
   "metadata": {
    "collapsed": true,
    "jupyter": {
     "outputs_hidden": true
    }
   },
   "outputs": [
    {
     "data": {
      "text/html": [
       "<div>\n",
       "<style scoped>\n",
       "    .dataframe tbody tr th:only-of-type {\n",
       "        vertical-align: middle;\n",
       "    }\n",
       "\n",
       "    .dataframe tbody tr th {\n",
       "        vertical-align: top;\n",
       "    }\n",
       "\n",
       "    .dataframe thead th {\n",
       "        text-align: right;\n",
       "    }\n",
       "</style>\n",
       "<table border=\"1\" class=\"dataframe\">\n",
       "  <thead>\n",
       "    <tr style=\"text-align: right;\">\n",
       "      <th></th>\n",
       "      <th>Dize</th>\n",
       "      <th>Dönem</th>\n",
       "    </tr>\n",
       "  </thead>\n",
       "  <tbody>\n",
       "    <tr>\n",
       "      <th>0</th>\n",
       "      <td>olan insanda şu nankörlüğe lânet yağdıran feryât</td>\n",
       "      <td>Servetifünun</td>\n",
       "    </tr>\n",
       "    <tr>\n",
       "      <th>1</th>\n",
       "      <td>bir garip kimseydin bu şehirde</td>\n",
       "      <td>Hisarcılar</td>\n",
       "    </tr>\n",
       "    <tr>\n",
       "      <th>2</th>\n",
       "      <td>biri endişeye zaman bulmaz</td>\n",
       "      <td>Tanzimat</td>\n",
       "    </tr>\n",
       "    <tr>\n",
       "      <th>3</th>\n",
       "      <td>dolaşsam ben de deniz</td>\n",
       "      <td>Garip Şiir</td>\n",
       "    </tr>\n",
       "    <tr>\n",
       "      <th>4</th>\n",
       "      <td>çocuklar sofrada bir çıra gibi yansın da</td>\n",
       "      <td>Metafizik Anlayışını Öne Çıkaran Şiir</td>\n",
       "    </tr>\n",
       "    <tr>\n",
       "      <th>...</th>\n",
       "      <td>...</td>\n",
       "      <td>...</td>\n",
       "    </tr>\n",
       "    <tr>\n",
       "      <th>14995</th>\n",
       "      <td>yaradılışta evrim hep var hep olmuş hep olacak</td>\n",
       "      <td>Servetifünun</td>\n",
       "    </tr>\n",
       "    <tr>\n",
       "      <th>14996</th>\n",
       "      <td>işık dalgalarıyla yıkanıyor her taraf</td>\n",
       "      <td>Hececiler</td>\n",
       "    </tr>\n",
       "    <tr>\n",
       "      <th>14997</th>\n",
       "      <td>yağmurlar başlamak üzre</td>\n",
       "      <td>1923-1960 Arası Toplumcu Serbest Şiir</td>\n",
       "    </tr>\n",
       "    <tr>\n",
       "      <th>14998</th>\n",
       "      <td>ayşem aygın baygın ayşem nereye</td>\n",
       "      <td>Hececiler</td>\n",
       "    </tr>\n",
       "    <tr>\n",
       "      <th>14999</th>\n",
       "      <td>sîmâyı sükûtunda yüzer mübhem ü metruk</td>\n",
       "      <td>Fecri Ati</td>\n",
       "    </tr>\n",
       "  </tbody>\n",
       "</table>\n",
       "<p>15000 rows × 2 columns</p>\n",
       "</div>"
      ],
      "text/plain": [
       "                                                   Dize  \\\n",
       "0      olan insanda şu nankörlüğe lânet yağdıran feryât   \n",
       "1                        bir garip kimseydin bu şehirde   \n",
       "2                            biri endişeye zaman bulmaz   \n",
       "3                                 dolaşsam ben de deniz   \n",
       "4              çocuklar sofrada bir çıra gibi yansın da   \n",
       "...                                                 ...   \n",
       "14995    yaradılışta evrim hep var hep olmuş hep olacak   \n",
       "14996             işık dalgalarıyla yıkanıyor her taraf   \n",
       "14997                           yağmurlar başlamak üzre   \n",
       "14998                  ayşem aygın baygın ayşem nereye    \n",
       "14999            sîmâyı sükûtunda yüzer mübhem ü metruk   \n",
       "\n",
       "                                       Dönem  \n",
       "0                               Servetifünun  \n",
       "1                                 Hisarcılar  \n",
       "2                                   Tanzimat  \n",
       "3                                 Garip Şiir  \n",
       "4      Metafizik Anlayışını Öne Çıkaran Şiir  \n",
       "...                                      ...  \n",
       "14995                           Servetifünun  \n",
       "14996                              Hececiler  \n",
       "14997  1923-1960 Arası Toplumcu Serbest Şiir  \n",
       "14998                              Hececiler  \n",
       "14999                              Fecri Ati  \n",
       "\n",
       "[15000 rows x 2 columns]"
      ]
     },
     "execution_count": 181,
     "metadata": {},
     "output_type": "execute_result"
    }
   ],
   "source": [
    "df1 = df.sample(frac=1).reset_index(drop=True)\n",
    "df1"
   ]
  },
  {
   "cell_type": "code",
   "execution_count": 182,
   "metadata": {},
   "outputs": [],
   "source": [
    "y = df1[\"Dönem\"]\n",
    "X = df1[\"Dize\"]\n",
    "X_train, X_test, y_train, y_test = train_test_split(X, y, test_size=0.3, random_state = 42)"
   ]
  },
  {
   "cell_type": "code",
   "execution_count": 183,
   "metadata": {},
   "outputs": [
    {
     "data": {
      "text/plain": [
       "Pipeline(steps=[('vect', CountVectorizer()), ('tfidf', TfidfTransformer()),\n",
       "                ('clf', LogisticRegression(C=100000.0, n_jobs=1))])"
      ]
     },
     "execution_count": 183,
     "metadata": {},
     "output_type": "execute_result"
    }
   ],
   "source": [
    "logreg = Pipeline([('vect', CountVectorizer()),\n",
    "                ('tfidf', TfidfTransformer()),\n",
    "                ('clf', LogisticRegression(n_jobs=1, C=1e5)),\n",
    "               ])\n",
    "logreg.fit(X_train, y_train)"
   ]
  },
  {
   "cell_type": "code",
   "execution_count": 184,
   "metadata": {},
   "outputs": [
    {
     "name": "stdout",
     "output_type": "stream",
     "text": [
      "accuracy 0.4066666666666667\n",
      "                                         precision    recall  f1-score   support\n",
      "\n",
      "                            İkinci Yeni       0.30      0.32      0.31       294\n",
      "                             Garip Şiir       0.26      0.28      0.27       302\n",
      "                              Hececiler       0.45      0.37      0.41       332\n",
      "                         Milli Edebiyat       0.17      0.19      0.18       296\n",
      "                              Fecri Ati       0.60      0.70      0.65       311\n",
      "                           Servetifünun       0.31      0.26      0.28       305\n",
      "                               Tanzimat       0.69      0.84      0.76       291\n",
      "                      1980 Sonrası Şiir       0.45      0.48      0.46       296\n",
      "             1960 Sonrası Toplumcu Şiir       0.44      0.42      0.43       298\n",
      "                             Hisarcılar       0.26      0.24      0.25       282\n",
      "  Metafizik Anlayışını Öne Çıkaran Şiir       0.41      0.30      0.35       317\n",
      "Milli Edebiyat Anlayışını Yansıtan Şiir       0.39      0.36      0.37       319\n",
      "                              Maviciler       0.45      0.54      0.49       296\n",
      "  1923-1960 Arası Toplumcu Serbest Şiir       0.65      0.56      0.60       293\n",
      "             Cumhuriyet Dönemi Saf Şiir       0.22      0.24      0.23       268\n",
      "\n",
      "                               accuracy                           0.41      4500\n",
      "                              macro avg       0.40      0.41      0.40      4500\n",
      "                           weighted avg       0.40      0.41      0.40      4500\n",
      "\n"
     ]
    }
   ],
   "source": [
    "y_pred = logreg.predict(X_test)\n",
    "\n",
    "print('accuracy %s' % accuracy_score(y_pred, y_test))\n",
    "print(classification_report(y_test, y_pred,target_names=donemler))"
   ]
  },
  {
   "cell_type": "markdown",
   "metadata": {},
   "source": [
    "## KNN"
   ]
  },
  {
   "cell_type": "code",
   "execution_count": 185,
   "metadata": {},
   "outputs": [],
   "source": [
    "df2 = df.sample(frac=1).reset_index(drop=True)"
   ]
  },
  {
   "cell_type": "code",
   "execution_count": 186,
   "metadata": {},
   "outputs": [],
   "source": [
    "y = df2[\"Dönem\"]\n",
    "X = df2[\"Dize\"]\n",
    "X_train, X_test, y_train, y_test = train_test_split(X, y, test_size=0.3, random_state = 42)"
   ]
  },
  {
   "cell_type": "code",
   "execution_count": 187,
   "metadata": {},
   "outputs": [
    {
     "data": {
      "text/plain": [
       "Pipeline(steps=[('vect', CountVectorizer()), ('tfidf', TfidfTransformer()),\n",
       "                ('clf', KNeighborsClassifier())])"
      ]
     },
     "execution_count": 187,
     "metadata": {},
     "output_type": "execute_result"
    }
   ],
   "source": [
    "knnclass = Pipeline([('vect', CountVectorizer()),\n",
    "                ('tfidf', TfidfTransformer()),\n",
    "                ('clf', KNeighborsClassifier()),\n",
    "               ])\n",
    "knnclass.fit(X_train, y_train)"
   ]
  },
  {
   "cell_type": "code",
   "execution_count": 188,
   "metadata": {},
   "outputs": [
    {
     "name": "stdout",
     "output_type": "stream",
     "text": [
      "accuracy 0.2348888888888889\n",
      "                                         precision    recall  f1-score   support\n",
      "\n",
      "                            İkinci Yeni       0.12      0.27      0.17       303\n",
      "                             Garip Şiir       0.18      0.19      0.19       303\n",
      "                              Hececiler       0.20      0.21      0.21       298\n",
      "                         Milli Edebiyat       0.14      0.17      0.15       293\n",
      "                              Fecri Ati       0.30      0.48      0.37       321\n",
      "                           Servetifünun       0.17      0.19      0.18       293\n",
      "                               Tanzimat       0.36      0.47      0.41       314\n",
      "                      1980 Sonrası Şiir       0.31      0.29      0.30       308\n",
      "             1960 Sonrası Toplumcu Şiir       0.27      0.23      0.25       291\n",
      "                             Hisarcılar       0.18      0.09      0.12       292\n",
      "  Metafizik Anlayışını Öne Çıkaran Şiir       0.32      0.11      0.17       313\n",
      "Milli Edebiyat Anlayışını Yansıtan Şiir       0.24      0.22      0.23       293\n",
      "                              Maviciler       0.29      0.24      0.26       280\n",
      "  1923-1960 Arası Toplumcu Serbest Şiir       0.52      0.23      0.32       306\n",
      "             Cumhuriyet Dönemi Saf Şiir       0.17      0.10      0.12       292\n",
      "\n",
      "                               accuracy                           0.23      4500\n",
      "                              macro avg       0.25      0.23      0.23      4500\n",
      "                           weighted avg       0.25      0.23      0.23      4500\n",
      "\n"
     ]
    }
   ],
   "source": [
    "y_pred = knnclass.predict(X_test)\n",
    "print('accuracy %s' % accuracy_score(y_pred, y_test))\n",
    "print(classification_report(y_test, y_pred,target_names=donemler))"
   ]
  },
  {
   "cell_type": "markdown",
   "metadata": {},
   "source": [
    "# Naive Bayes"
   ]
  },
  {
   "cell_type": "code",
   "execution_count": 190,
   "metadata": {},
   "outputs": [],
   "source": [
    "df3 = df.sample(frac=1).reset_index(drop=True)"
   ]
  },
  {
   "cell_type": "code",
   "execution_count": 191,
   "metadata": {},
   "outputs": [],
   "source": [
    "y = df3[\"Dönem\"]\n",
    "X = df3[\"Dize\"]\n",
    "X_train, X_test, y_train, y_test = train_test_split(X, y, test_size=0.3, random_state = 42)"
   ]
  },
  {
   "cell_type": "code",
   "execution_count": 192,
   "metadata": {},
   "outputs": [
    {
     "data": {
      "text/plain": [
       "Pipeline(steps=[('vect', CountVectorizer()), ('tfidf', TfidfTransformer()),\n",
       "                ('clf', MultinomialNB())])"
      ]
     },
     "execution_count": 192,
     "metadata": {},
     "output_type": "execute_result"
    }
   ],
   "source": [
    "nb = Pipeline([('vect', CountVectorizer()),\n",
    "               ('tfidf', TfidfTransformer()),\n",
    "               ('clf', MultinomialNB()),\n",
    "              ])\n",
    "nb.fit(X_train, y_train)"
   ]
  },
  {
   "cell_type": "code",
   "execution_count": 193,
   "metadata": {},
   "outputs": [
    {
     "name": "stdout",
     "output_type": "stream",
     "text": [
      "accuracy 0.37622222222222224\n",
      "                                         precision    recall  f1-score   support\n",
      "\n",
      "                            İkinci Yeni       0.27      0.26      0.27       296\n",
      "                             Garip Şiir       0.45      0.16      0.23       327\n",
      "                              Hececiler       0.28      0.34      0.31       309\n",
      "                         Milli Edebiyat       0.16      0.13      0.14       300\n",
      "                              Fecri Ati       0.59      0.72      0.65       318\n",
      "                           Servetifünun       0.40      0.26      0.31       310\n",
      "                               Tanzimat       0.44      0.83      0.57       276\n",
      "                      1980 Sonrası Şiir       0.49      0.43      0.46       317\n",
      "             1960 Sonrası Toplumcu Şiir       0.38      0.48      0.43       281\n",
      "                             Hisarcılar       0.23      0.13      0.17       305\n",
      "  Metafizik Anlayışını Öne Çıkaran Şiir       0.38      0.30      0.34       322\n",
      "Milli Edebiyat Anlayışını Yansıtan Şiir       0.37      0.34      0.35       294\n",
      "                              Maviciler       0.38      0.55      0.45       282\n",
      "  1923-1960 Arası Toplumcu Serbest Şiir       0.39      0.61      0.48       254\n",
      "             Cumhuriyet Dönemi Saf Şiir       0.26      0.20      0.23       309\n",
      "\n",
      "                               accuracy                           0.38      4500\n",
      "                              macro avg       0.37      0.38      0.36      4500\n",
      "                           weighted avg       0.37      0.38      0.36      4500\n",
      "\n"
     ]
    }
   ],
   "source": [
    "y_pred = nb.predict(X_test)\n",
    "print('accuracy %s' % accuracy_score(y_pred, y_test))\n",
    "print(classification_report(y_test, y_pred,target_names=donemler))"
   ]
  },
  {
   "cell_type": "markdown",
   "metadata": {},
   "source": [
    "# LSVM"
   ]
  },
  {
   "cell_type": "code",
   "execution_count": 195,
   "metadata": {},
   "outputs": [],
   "source": [
    "df4 = df.sample(frac=1).reset_index(drop=True)"
   ]
  },
  {
   "cell_type": "code",
   "execution_count": 196,
   "metadata": {},
   "outputs": [],
   "source": [
    "y = df4[\"Dönem\"]\n",
    "X = df4[\"Dize\"]\n",
    "X_train, X_test, y_train, y_test = train_test_split(X, y, test_size=0.3, random_state = 42)"
   ]
  },
  {
   "cell_type": "code",
   "execution_count": 197,
   "metadata": {},
   "outputs": [
    {
     "data": {
      "text/plain": [
       "Pipeline(steps=[('vect', CountVectorizer()), ('tfidf', TfidfTransformer()),\n",
       "                ('clf',\n",
       "                 SGDClassifier(alpha=0.001, max_iter=5, random_state=42,\n",
       "                               tol=None))])"
      ]
     },
     "execution_count": 197,
     "metadata": {},
     "output_type": "execute_result"
    }
   ],
   "source": [
    "sgd = Pipeline([('vect', CountVectorizer()),\n",
    "                ('tfidf', TfidfTransformer()),\n",
    "                ('clf', SGDClassifier(loss='hinge', penalty='l2',alpha=1e-3, random_state=42, max_iter=5, tol=None)),\n",
    "               ])\n",
    "sgd.fit(X_train, y_train)"
   ]
  },
  {
   "cell_type": "code",
   "execution_count": 198,
   "metadata": {},
   "outputs": [
    {
     "name": "stdout",
     "output_type": "stream",
     "text": [
      "accuracy 0.3988888888888889\n",
      "                                         precision    recall  f1-score   support\n",
      "\n",
      "                            İkinci Yeni       0.35      0.26      0.30       315\n",
      "                             Garip Şiir       0.27      0.19      0.22       290\n",
      "                              Hececiler       0.34      0.40      0.36       302\n",
      "                         Milli Edebiyat       0.25      0.15      0.19       319\n",
      "                              Fecri Ati       0.49      0.72      0.58       322\n",
      "                           Servetifünun       0.41      0.32      0.36       293\n",
      "                               Tanzimat       0.56      0.80      0.66       283\n",
      "                      1980 Sonrası Şiir       0.42      0.51      0.46       295\n",
      "             1960 Sonrası Toplumcu Şiir       0.39      0.39      0.39       297\n",
      "                             Hisarcılar       0.30      0.20      0.24       304\n",
      "  Metafizik Anlayışını Öne Çıkaran Şiir       0.32      0.29      0.31       279\n",
      "Milli Edebiyat Anlayışını Yansıtan Şiir       0.48      0.39      0.43       304\n",
      "                              Maviciler       0.45      0.56      0.49       288\n",
      "  1923-1960 Arası Toplumcu Serbest Şiir       0.41      0.60      0.48       310\n",
      "             Cumhuriyet Dönemi Saf Şiir       0.28      0.24      0.26       299\n",
      "\n",
      "                               accuracy                           0.40      4500\n",
      "                              macro avg       0.38      0.40      0.38      4500\n",
      "                           weighted avg       0.38      0.40      0.38      4500\n",
      "\n"
     ]
    }
   ],
   "source": [
    "y_pred = sgd.predict(X_test)\n",
    "print('accuracy %s' % accuracy_score(y_pred, y_test))\n",
    "print(classification_report(y_test, y_pred,target_names=donemler))"
   ]
  },
  {
   "cell_type": "markdown",
   "metadata": {},
   "source": [
    "# Keras"
   ]
  },
  {
   "cell_type": "code",
   "execution_count": 199,
   "metadata": {},
   "outputs": [],
   "source": [
    "train_size = int(len(df) * .7)\n",
    "train_posts = df[\"Dize\"][:train_size]\n",
    "train_tags = df[\"Dönem\"][:train_size]\n",
    "\n",
    "test_posts = df[\"Dize\"][train_size:]\n",
    "test_tags = df[\"Dönem\"][train_size:]"
   ]
  },
  {
   "cell_type": "code",
   "execution_count": 200,
   "metadata": {},
   "outputs": [],
   "source": [
    "max_words = 1000\n",
    "tokenize = text.Tokenizer(num_words=max_words, char_level=False)\n",
    "tokenize.fit_on_texts(train_posts) # only fit on train"
   ]
  },
  {
   "cell_type": "code",
   "execution_count": 201,
   "metadata": {},
   "outputs": [],
   "source": [
    "x_train = tokenize.texts_to_matrix(train_posts)\n",
    "x_test = tokenize.texts_to_matrix(test_posts)"
   ]
  },
  {
   "cell_type": "code",
   "execution_count": 202,
   "metadata": {},
   "outputs": [
    {
     "ename": "ValueError",
     "evalue": "y contains previously unseen labels: 'Garip Şiir'",
     "output_type": "error",
     "traceback": [
      "\u001b[1;31m---------------------------------------------------------------------------\u001b[0m",
      "\u001b[1;31mKeyError\u001b[0m                                  Traceback (most recent call last)",
      "\u001b[1;32m~\\Anaconda3\\lib\\site-packages\\sklearn\\preprocessing\\_label.py\u001b[0m in \u001b[0;36m_encode_python\u001b[1;34m(values, uniques, encode)\u001b[0m\n\u001b[0;32m     65\u001b[0m         \u001b[1;32mtry\u001b[0m\u001b[1;33m:\u001b[0m\u001b[1;33m\u001b[0m\u001b[1;33m\u001b[0m\u001b[0m\n\u001b[1;32m---> 66\u001b[1;33m             \u001b[0mencoded\u001b[0m \u001b[1;33m=\u001b[0m \u001b[0mnp\u001b[0m\u001b[1;33m.\u001b[0m\u001b[0marray\u001b[0m\u001b[1;33m(\u001b[0m\u001b[1;33m[\u001b[0m\u001b[0mtable\u001b[0m\u001b[1;33m[\u001b[0m\u001b[0mv\u001b[0m\u001b[1;33m]\u001b[0m \u001b[1;32mfor\u001b[0m \u001b[0mv\u001b[0m \u001b[1;32min\u001b[0m \u001b[0mvalues\u001b[0m\u001b[1;33m]\u001b[0m\u001b[1;33m)\u001b[0m\u001b[1;33m\u001b[0m\u001b[1;33m\u001b[0m\u001b[0m\n\u001b[0m\u001b[0;32m     67\u001b[0m         \u001b[1;32mexcept\u001b[0m \u001b[0mKeyError\u001b[0m \u001b[1;32mas\u001b[0m \u001b[0me\u001b[0m\u001b[1;33m:\u001b[0m\u001b[1;33m\u001b[0m\u001b[1;33m\u001b[0m\u001b[0m\n",
      "\u001b[1;32m~\\Anaconda3\\lib\\site-packages\\sklearn\\preprocessing\\_label.py\u001b[0m in \u001b[0;36m<listcomp>\u001b[1;34m(.0)\u001b[0m\n\u001b[0;32m     65\u001b[0m         \u001b[1;32mtry\u001b[0m\u001b[1;33m:\u001b[0m\u001b[1;33m\u001b[0m\u001b[1;33m\u001b[0m\u001b[0m\n\u001b[1;32m---> 66\u001b[1;33m             \u001b[0mencoded\u001b[0m \u001b[1;33m=\u001b[0m \u001b[0mnp\u001b[0m\u001b[1;33m.\u001b[0m\u001b[0marray\u001b[0m\u001b[1;33m(\u001b[0m\u001b[1;33m[\u001b[0m\u001b[0mtable\u001b[0m\u001b[1;33m[\u001b[0m\u001b[0mv\u001b[0m\u001b[1;33m]\u001b[0m \u001b[1;32mfor\u001b[0m \u001b[0mv\u001b[0m \u001b[1;32min\u001b[0m \u001b[0mvalues\u001b[0m\u001b[1;33m]\u001b[0m\u001b[1;33m)\u001b[0m\u001b[1;33m\u001b[0m\u001b[1;33m\u001b[0m\u001b[0m\n\u001b[0m\u001b[0;32m     67\u001b[0m         \u001b[1;32mexcept\u001b[0m \u001b[0mKeyError\u001b[0m \u001b[1;32mas\u001b[0m \u001b[0me\u001b[0m\u001b[1;33m:\u001b[0m\u001b[1;33m\u001b[0m\u001b[1;33m\u001b[0m\u001b[0m\n",
      "\u001b[1;31mKeyError\u001b[0m: 'Garip Şiir'",
      "\nDuring handling of the above exception, another exception occurred:\n",
      "\u001b[1;31mValueError\u001b[0m                                Traceback (most recent call last)",
      "\u001b[1;32m<ipython-input-202-529e4644aabe>\u001b[0m in \u001b[0;36m<module>\u001b[1;34m\u001b[0m\n\u001b[0;32m      2\u001b[0m \u001b[0mencoder\u001b[0m\u001b[1;33m.\u001b[0m\u001b[0mfit\u001b[0m\u001b[1;33m(\u001b[0m\u001b[0mtrain_tags\u001b[0m\u001b[1;33m)\u001b[0m\u001b[1;33m\u001b[0m\u001b[1;33m\u001b[0m\u001b[0m\n\u001b[0;32m      3\u001b[0m \u001b[0my_train\u001b[0m \u001b[1;33m=\u001b[0m \u001b[0mencoder\u001b[0m\u001b[1;33m.\u001b[0m\u001b[0mtransform\u001b[0m\u001b[1;33m(\u001b[0m\u001b[0mtrain_tags\u001b[0m\u001b[1;33m)\u001b[0m\u001b[1;33m\u001b[0m\u001b[1;33m\u001b[0m\u001b[0m\n\u001b[1;32m----> 4\u001b[1;33m \u001b[0my_test\u001b[0m \u001b[1;33m=\u001b[0m \u001b[0mencoder\u001b[0m\u001b[1;33m.\u001b[0m\u001b[0mtransform\u001b[0m\u001b[1;33m(\u001b[0m\u001b[0mtest_tags\u001b[0m\u001b[1;33m)\u001b[0m\u001b[1;33m\u001b[0m\u001b[1;33m\u001b[0m\u001b[0m\n\u001b[0m",
      "\u001b[1;32m~\\Anaconda3\\lib\\site-packages\\sklearn\\preprocessing\\_label.py\u001b[0m in \u001b[0;36mtransform\u001b[1;34m(self, y)\u001b[0m\n\u001b[0;32m    275\u001b[0m             \u001b[1;32mreturn\u001b[0m \u001b[0mnp\u001b[0m\u001b[1;33m.\u001b[0m\u001b[0marray\u001b[0m\u001b[1;33m(\u001b[0m\u001b[1;33m[\u001b[0m\u001b[1;33m]\u001b[0m\u001b[1;33m)\u001b[0m\u001b[1;33m\u001b[0m\u001b[1;33m\u001b[0m\u001b[0m\n\u001b[0;32m    276\u001b[0m \u001b[1;33m\u001b[0m\u001b[0m\n\u001b[1;32m--> 277\u001b[1;33m         \u001b[0m_\u001b[0m\u001b[1;33m,\u001b[0m \u001b[0my\u001b[0m \u001b[1;33m=\u001b[0m \u001b[0m_encode\u001b[0m\u001b[1;33m(\u001b[0m\u001b[0my\u001b[0m\u001b[1;33m,\u001b[0m \u001b[0muniques\u001b[0m\u001b[1;33m=\u001b[0m\u001b[0mself\u001b[0m\u001b[1;33m.\u001b[0m\u001b[0mclasses_\u001b[0m\u001b[1;33m,\u001b[0m \u001b[0mencode\u001b[0m\u001b[1;33m=\u001b[0m\u001b[1;32mTrue\u001b[0m\u001b[1;33m)\u001b[0m\u001b[1;33m\u001b[0m\u001b[1;33m\u001b[0m\u001b[0m\n\u001b[0m\u001b[0;32m    278\u001b[0m         \u001b[1;32mreturn\u001b[0m \u001b[0my\u001b[0m\u001b[1;33m\u001b[0m\u001b[1;33m\u001b[0m\u001b[0m\n\u001b[0;32m    279\u001b[0m \u001b[1;33m\u001b[0m\u001b[0m\n",
      "\u001b[1;32m~\\Anaconda3\\lib\\site-packages\\sklearn\\preprocessing\\_label.py\u001b[0m in \u001b[0;36m_encode\u001b[1;34m(values, uniques, encode, check_unknown)\u001b[0m\n\u001b[0;32m    111\u001b[0m     \u001b[1;32mif\u001b[0m \u001b[0mvalues\u001b[0m\u001b[1;33m.\u001b[0m\u001b[0mdtype\u001b[0m \u001b[1;33m==\u001b[0m \u001b[0mobject\u001b[0m\u001b[1;33m:\u001b[0m\u001b[1;33m\u001b[0m\u001b[1;33m\u001b[0m\u001b[0m\n\u001b[0;32m    112\u001b[0m         \u001b[1;32mtry\u001b[0m\u001b[1;33m:\u001b[0m\u001b[1;33m\u001b[0m\u001b[1;33m\u001b[0m\u001b[0m\n\u001b[1;32m--> 113\u001b[1;33m             \u001b[0mres\u001b[0m \u001b[1;33m=\u001b[0m \u001b[0m_encode_python\u001b[0m\u001b[1;33m(\u001b[0m\u001b[0mvalues\u001b[0m\u001b[1;33m,\u001b[0m \u001b[0muniques\u001b[0m\u001b[1;33m,\u001b[0m \u001b[0mencode\u001b[0m\u001b[1;33m)\u001b[0m\u001b[1;33m\u001b[0m\u001b[1;33m\u001b[0m\u001b[0m\n\u001b[0m\u001b[0;32m    114\u001b[0m         \u001b[1;32mexcept\u001b[0m \u001b[0mTypeError\u001b[0m\u001b[1;33m:\u001b[0m\u001b[1;33m\u001b[0m\u001b[1;33m\u001b[0m\u001b[0m\n\u001b[0;32m    115\u001b[0m             types = sorted(t.__qualname__\n",
      "\u001b[1;32m~\\Anaconda3\\lib\\site-packages\\sklearn\\preprocessing\\_label.py\u001b[0m in \u001b[0;36m_encode_python\u001b[1;34m(values, uniques, encode)\u001b[0m\n\u001b[0;32m     66\u001b[0m             \u001b[0mencoded\u001b[0m \u001b[1;33m=\u001b[0m \u001b[0mnp\u001b[0m\u001b[1;33m.\u001b[0m\u001b[0marray\u001b[0m\u001b[1;33m(\u001b[0m\u001b[1;33m[\u001b[0m\u001b[0mtable\u001b[0m\u001b[1;33m[\u001b[0m\u001b[0mv\u001b[0m\u001b[1;33m]\u001b[0m \u001b[1;32mfor\u001b[0m \u001b[0mv\u001b[0m \u001b[1;32min\u001b[0m \u001b[0mvalues\u001b[0m\u001b[1;33m]\u001b[0m\u001b[1;33m)\u001b[0m\u001b[1;33m\u001b[0m\u001b[1;33m\u001b[0m\u001b[0m\n\u001b[0;32m     67\u001b[0m         \u001b[1;32mexcept\u001b[0m \u001b[0mKeyError\u001b[0m \u001b[1;32mas\u001b[0m \u001b[0me\u001b[0m\u001b[1;33m:\u001b[0m\u001b[1;33m\u001b[0m\u001b[1;33m\u001b[0m\u001b[0m\n\u001b[1;32m---> 68\u001b[1;33m             raise ValueError(\"y contains previously unseen labels: %s\"\n\u001b[0m\u001b[0;32m     69\u001b[0m                              % str(e))\n\u001b[0;32m     70\u001b[0m         \u001b[1;32mreturn\u001b[0m \u001b[0muniques\u001b[0m\u001b[1;33m,\u001b[0m \u001b[0mencoded\u001b[0m\u001b[1;33m\u001b[0m\u001b[1;33m\u001b[0m\u001b[0m\n",
      "\u001b[1;31mValueError\u001b[0m: y contains previously unseen labels: 'Garip Şiir'"
     ]
    }
   ],
   "source": [
    "encoder = LabelEncoder()\n",
    "encoder.fit(train_tags)\n",
    "y_train = encoder.transform(train_tags)\n",
    "y_test = encoder.transform(test_tags)"
   ]
  },
  {
   "cell_type": "code",
   "execution_count": 203,
   "metadata": {},
   "outputs": [
    {
     "ename": "ValueError",
     "evalue": "invalid literal for int() with base 10: 'Metafizik Anlayışını Öne Çıkaran Şiir'",
     "output_type": "error",
     "traceback": [
      "\u001b[1;31m---------------------------------------------------------------------------\u001b[0m",
      "\u001b[1;31mValueError\u001b[0m                                Traceback (most recent call last)",
      "\u001b[1;32m<ipython-input-203-08f0d304101e>\u001b[0m in \u001b[0;36m<module>\u001b[1;34m\u001b[0m\n\u001b[0;32m      1\u001b[0m \u001b[0mnum_classes\u001b[0m \u001b[1;33m=\u001b[0m \u001b[0mnp\u001b[0m\u001b[1;33m.\u001b[0m\u001b[0mmax\u001b[0m\u001b[1;33m(\u001b[0m\u001b[0my_train\u001b[0m\u001b[1;33m)\u001b[0m \u001b[1;33m+\u001b[0m \u001b[1;36m1\u001b[0m\u001b[1;33m\u001b[0m\u001b[1;33m\u001b[0m\u001b[0m\n\u001b[0;32m      2\u001b[0m \u001b[0my_train\u001b[0m \u001b[1;33m=\u001b[0m \u001b[0mutils\u001b[0m\u001b[1;33m.\u001b[0m\u001b[0mto_categorical\u001b[0m\u001b[1;33m(\u001b[0m\u001b[0my_train\u001b[0m\u001b[1;33m,\u001b[0m \u001b[0mnum_classes\u001b[0m\u001b[1;33m)\u001b[0m\u001b[1;33m\u001b[0m\u001b[1;33m\u001b[0m\u001b[0m\n\u001b[1;32m----> 3\u001b[1;33m \u001b[0my_test\u001b[0m \u001b[1;33m=\u001b[0m \u001b[0mutils\u001b[0m\u001b[1;33m.\u001b[0m\u001b[0mto_categorical\u001b[0m\u001b[1;33m(\u001b[0m\u001b[0my_test\u001b[0m\u001b[1;33m,\u001b[0m \u001b[0mnum_classes\u001b[0m\u001b[1;33m)\u001b[0m\u001b[1;33m\u001b[0m\u001b[1;33m\u001b[0m\u001b[0m\n\u001b[0m",
      "\u001b[1;32m~\\Anaconda3\\lib\\site-packages\\tensorflow\\python\\keras\\utils\\np_utils.py\u001b[0m in \u001b[0;36mto_categorical\u001b[1;34m(y, num_classes, dtype)\u001b[0m\n\u001b[0;32m     67\u001b[0m \u001b[1;33m\u001b[0m\u001b[0m\n\u001b[0;32m     68\u001b[0m   \"\"\"\n\u001b[1;32m---> 69\u001b[1;33m   \u001b[0my\u001b[0m \u001b[1;33m=\u001b[0m \u001b[0mnp\u001b[0m\u001b[1;33m.\u001b[0m\u001b[0marray\u001b[0m\u001b[1;33m(\u001b[0m\u001b[0my\u001b[0m\u001b[1;33m,\u001b[0m \u001b[0mdtype\u001b[0m\u001b[1;33m=\u001b[0m\u001b[1;34m'int'\u001b[0m\u001b[1;33m)\u001b[0m\u001b[1;33m\u001b[0m\u001b[1;33m\u001b[0m\u001b[0m\n\u001b[0m\u001b[0;32m     70\u001b[0m   \u001b[0minput_shape\u001b[0m \u001b[1;33m=\u001b[0m \u001b[0my\u001b[0m\u001b[1;33m.\u001b[0m\u001b[0mshape\u001b[0m\u001b[1;33m\u001b[0m\u001b[1;33m\u001b[0m\u001b[0m\n\u001b[0;32m     71\u001b[0m   \u001b[1;32mif\u001b[0m \u001b[0minput_shape\u001b[0m \u001b[1;32mand\u001b[0m \u001b[0minput_shape\u001b[0m\u001b[1;33m[\u001b[0m\u001b[1;33m-\u001b[0m\u001b[1;36m1\u001b[0m\u001b[1;33m]\u001b[0m \u001b[1;33m==\u001b[0m \u001b[1;36m1\u001b[0m \u001b[1;32mand\u001b[0m \u001b[0mlen\u001b[0m\u001b[1;33m(\u001b[0m\u001b[0minput_shape\u001b[0m\u001b[1;33m)\u001b[0m \u001b[1;33m>\u001b[0m \u001b[1;36m1\u001b[0m\u001b[1;33m:\u001b[0m\u001b[1;33m\u001b[0m\u001b[1;33m\u001b[0m\u001b[0m\n",
      "\u001b[1;32m~\\Anaconda3\\lib\\site-packages\\pandas\\core\\series.py\u001b[0m in \u001b[0;36m__array__\u001b[1;34m(self, dtype)\u001b[0m\n\u001b[0;32m    752\u001b[0m               dtype='datetime64[ns]')\n\u001b[0;32m    753\u001b[0m         \"\"\"\n\u001b[1;32m--> 754\u001b[1;33m         \u001b[1;32mreturn\u001b[0m \u001b[0mnp\u001b[0m\u001b[1;33m.\u001b[0m\u001b[0masarray\u001b[0m\u001b[1;33m(\u001b[0m\u001b[0mself\u001b[0m\u001b[1;33m.\u001b[0m\u001b[0marray\u001b[0m\u001b[1;33m,\u001b[0m \u001b[0mdtype\u001b[0m\u001b[1;33m)\u001b[0m\u001b[1;33m\u001b[0m\u001b[1;33m\u001b[0m\u001b[0m\n\u001b[0m\u001b[0;32m    755\u001b[0m \u001b[1;33m\u001b[0m\u001b[0m\n\u001b[0;32m    756\u001b[0m     \u001b[1;31m# ----------------------------------------------------------------------\u001b[0m\u001b[1;33m\u001b[0m\u001b[1;33m\u001b[0m\u001b[1;33m\u001b[0m\u001b[0m\n",
      "\u001b[1;32m~\\Anaconda3\\lib\\site-packages\\numpy\\core\\_asarray.py\u001b[0m in \u001b[0;36masarray\u001b[1;34m(a, dtype, order)\u001b[0m\n\u001b[0;32m     83\u001b[0m \u001b[1;33m\u001b[0m\u001b[0m\n\u001b[0;32m     84\u001b[0m     \"\"\"\n\u001b[1;32m---> 85\u001b[1;33m     \u001b[1;32mreturn\u001b[0m \u001b[0marray\u001b[0m\u001b[1;33m(\u001b[0m\u001b[0ma\u001b[0m\u001b[1;33m,\u001b[0m \u001b[0mdtype\u001b[0m\u001b[1;33m,\u001b[0m \u001b[0mcopy\u001b[0m\u001b[1;33m=\u001b[0m\u001b[1;32mFalse\u001b[0m\u001b[1;33m,\u001b[0m \u001b[0morder\u001b[0m\u001b[1;33m=\u001b[0m\u001b[0morder\u001b[0m\u001b[1;33m)\u001b[0m\u001b[1;33m\u001b[0m\u001b[1;33m\u001b[0m\u001b[0m\n\u001b[0m\u001b[0;32m     86\u001b[0m \u001b[1;33m\u001b[0m\u001b[0m\n\u001b[0;32m     87\u001b[0m \u001b[1;33m\u001b[0m\u001b[0m\n",
      "\u001b[1;32m~\\Anaconda3\\lib\\site-packages\\pandas\\core\\arrays\\numpy_.py\u001b[0m in \u001b[0;36m__array__\u001b[1;34m(self, dtype)\u001b[0m\n\u001b[0;32m    182\u001b[0m \u001b[1;33m\u001b[0m\u001b[0m\n\u001b[0;32m    183\u001b[0m     \u001b[1;32mdef\u001b[0m \u001b[0m__array__\u001b[0m\u001b[1;33m(\u001b[0m\u001b[0mself\u001b[0m\u001b[1;33m,\u001b[0m \u001b[0mdtype\u001b[0m\u001b[1;33m=\u001b[0m\u001b[1;32mNone\u001b[0m\u001b[1;33m)\u001b[0m \u001b[1;33m->\u001b[0m \u001b[0mnp\u001b[0m\u001b[1;33m.\u001b[0m\u001b[0mndarray\u001b[0m\u001b[1;33m:\u001b[0m\u001b[1;33m\u001b[0m\u001b[1;33m\u001b[0m\u001b[0m\n\u001b[1;32m--> 184\u001b[1;33m         \u001b[1;32mreturn\u001b[0m \u001b[0mnp\u001b[0m\u001b[1;33m.\u001b[0m\u001b[0masarray\u001b[0m\u001b[1;33m(\u001b[0m\u001b[0mself\u001b[0m\u001b[1;33m.\u001b[0m\u001b[0m_ndarray\u001b[0m\u001b[1;33m,\u001b[0m \u001b[0mdtype\u001b[0m\u001b[1;33m=\u001b[0m\u001b[0mdtype\u001b[0m\u001b[1;33m)\u001b[0m\u001b[1;33m\u001b[0m\u001b[1;33m\u001b[0m\u001b[0m\n\u001b[0m\u001b[0;32m    185\u001b[0m \u001b[1;33m\u001b[0m\u001b[0m\n\u001b[0;32m    186\u001b[0m     \u001b[0m_HANDLED_TYPES\u001b[0m \u001b[1;33m=\u001b[0m \u001b[1;33m(\u001b[0m\u001b[0mnp\u001b[0m\u001b[1;33m.\u001b[0m\u001b[0mndarray\u001b[0m\u001b[1;33m,\u001b[0m \u001b[0mnumbers\u001b[0m\u001b[1;33m.\u001b[0m\u001b[0mNumber\u001b[0m\u001b[1;33m)\u001b[0m\u001b[1;33m\u001b[0m\u001b[1;33m\u001b[0m\u001b[0m\n",
      "\u001b[1;32m~\\Anaconda3\\lib\\site-packages\\numpy\\core\\_asarray.py\u001b[0m in \u001b[0;36masarray\u001b[1;34m(a, dtype, order)\u001b[0m\n\u001b[0;32m     83\u001b[0m \u001b[1;33m\u001b[0m\u001b[0m\n\u001b[0;32m     84\u001b[0m     \"\"\"\n\u001b[1;32m---> 85\u001b[1;33m     \u001b[1;32mreturn\u001b[0m \u001b[0marray\u001b[0m\u001b[1;33m(\u001b[0m\u001b[0ma\u001b[0m\u001b[1;33m,\u001b[0m \u001b[0mdtype\u001b[0m\u001b[1;33m,\u001b[0m \u001b[0mcopy\u001b[0m\u001b[1;33m=\u001b[0m\u001b[1;32mFalse\u001b[0m\u001b[1;33m,\u001b[0m \u001b[0morder\u001b[0m\u001b[1;33m=\u001b[0m\u001b[0morder\u001b[0m\u001b[1;33m)\u001b[0m\u001b[1;33m\u001b[0m\u001b[1;33m\u001b[0m\u001b[0m\n\u001b[0m\u001b[0;32m     86\u001b[0m \u001b[1;33m\u001b[0m\u001b[0m\n\u001b[0;32m     87\u001b[0m \u001b[1;33m\u001b[0m\u001b[0m\n",
      "\u001b[1;31mValueError\u001b[0m: invalid literal for int() with base 10: 'Metafizik Anlayışını Öne Çıkaran Şiir'"
     ]
    }
   ],
   "source": [
    "num_classes = np.max(y_train) + 1\n",
    "y_train = utils.to_categorical(y_train, num_classes)\n",
    "y_test = utils.to_categorical(y_test, num_classes)"
   ]
  },
  {
   "cell_type": "code",
   "execution_count": null,
   "metadata": {},
   "outputs": [],
   "source": [
    "batch_size = 256\n",
    "epochs = 250"
   ]
  },
  {
   "cell_type": "code",
   "execution_count": null,
   "metadata": {},
   "outputs": [],
   "source": [
    "model = Sequential()\n",
    "model.add(Dense(512, input_shape=(max_words,)))\n",
    "model.add(Activation('relu'))\n",
    "model.add(Dropout(0.5))\n",
    "model.add(Dense(num_classes))\n",
    "model.add(Activation('softmax'))"
   ]
  },
  {
   "cell_type": "code",
   "execution_count": null,
   "metadata": {},
   "outputs": [],
   "source": [
    "model.compile(loss='categorical_crossentropy',\n",
    "              optimizer='adam',\n",
    "              metrics=['accuracy'])"
   ]
  },
  {
   "cell_type": "code",
   "execution_count": null,
   "metadata": {},
   "outputs": [],
   "source": [
    "history = model.fit(x_train, y_train,\n",
    "                    batch_size=batch_size,\n",
    "                    epochs=epochs,\n",
    "                    verbose=1,\n",
    "                    validation_split=0.1)"
   ]
  },
  {
   "cell_type": "code",
   "execution_count": null,
   "metadata": {},
   "outputs": [],
   "source": [
    "score = model.evaluate(x_test, y_test,\n",
    "                       batch_size=batch_size, verbose=1)\n",
    "print('Test accuracy:', score[1])"
   ]
  }
 ],
 "metadata": {
  "kernelspec": {
   "display_name": "Python 3",
   "language": "python",
   "name": "python3"
  },
  "language_info": {
   "codemirror_mode": {
    "name": "ipython",
    "version": 3
   },
   "file_extension": ".py",
   "mimetype": "text/x-python",
   "name": "python",
   "nbconvert_exporter": "python",
   "pygments_lexer": "ipython3",
   "version": "3.8.3"
  }
 },
 "nbformat": 4,
 "nbformat_minor": 4
}
